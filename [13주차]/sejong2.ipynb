{
 "cells": [
  {
   "cell_type": "code",
   "execution_count": 1,
   "metadata": {
    "_cell_guid": "b1076dfc-b9ad-4769-8c92-a6c4dae69d19",
    "_uuid": "8f2839f25d086af736a60e9eeb907d3b93b6e0e5",
    "execution": {
     "iopub.execute_input": "2021-03-17T14:35:03.012645Z",
     "iopub.status.busy": "2021-03-17T14:35:03.011922Z",
     "iopub.status.idle": "2021-03-17T14:35:03.047685Z",
     "shell.execute_reply": "2021-03-17T14:35:03.046985Z"
    },
    "papermill": {
     "duration": 0.051275,
     "end_time": "2021-03-17T14:35:03.047893",
     "exception": false,
     "start_time": "2021-03-17T14:35:02.996618",
     "status": "completed"
    },
    "tags": []
   },
   "outputs": [],
   "source": [
    "import numpy as np\n",
    "import pandas as pd\n",
    "import matplotlib.pyplot as plt\n",
    "\n",
    "import re\n",
    "import csv\n",
    "\n",
    "import fasttext"
   ]
  },
  {
   "cell_type": "code",
   "execution_count": 2,
   "metadata": {
    "execution": {
     "iopub.execute_input": "2021-03-17T14:35:03.071651Z",
     "iopub.status.busy": "2021-03-17T14:35:03.070635Z",
     "iopub.status.idle": "2021-03-17T14:35:05.316301Z",
     "shell.execute_reply": "2021-03-17T14:35:05.316837Z"
    },
    "papermill": {
     "duration": 2.260744,
     "end_time": "2021-03-17T14:35:05.317035",
     "exception": false,
     "start_time": "2021-03-17T14:35:03.056291",
     "status": "completed"
    },
    "tags": []
   },
   "outputs": [],
   "source": [
    "train=pd.read_csv('/kaggle/input/sejong-ai-challenge-p2/train.csv',usecols=[1,2])\n",
    "test=pd.read_csv('/kaggle/input/sejong-ai-challenge-p2/test.csv',usecols=[1])\n",
    "submit=pd.read_csv('/kaggle/input/sejong-ai-challenge-p2/sample_submission.csv')"
   ]
  },
  {
   "cell_type": "code",
   "execution_count": 3,
   "metadata": {
    "execution": {
     "iopub.execute_input": "2021-03-17T14:35:05.336808Z",
     "iopub.status.busy": "2021-03-17T14:35:05.335841Z",
     "iopub.status.idle": "2021-03-17T14:35:05.491409Z",
     "shell.execute_reply": "2021-03-17T14:35:05.490646Z"
    },
    "papermill": {
     "duration": 0.166392,
     "end_time": "2021-03-17T14:35:05.491586",
     "exception": false,
     "start_time": "2021-03-17T14:35:05.325194",
     "status": "completed"
    },
    "tags": []
   },
   "outputs": [
    {
     "data": {
      "image/png": "[encoded data removed]",
      "text/plain": [
       "<Figure size 360x360 with 1 Axes>"
      ]
     },
     "metadata": {
      "needs_background": "light"
     },
     "output_type": "display_data"
    }
   ],
   "source": [
    "temp=train['Label'].value_counts()\n",
    "\n",
    "fig,ax=plt.subplots(1,1,figsize=(5,5))\n",
    "\n",
    "ax.bar(temp.index,temp)\n",
    "ax.set_xticks(range(2))\n",
    "ax.set_xticklabels(['0','1'])\n",
    "\n",
    "plt.show()"
   ]
  },
  {
   "cell_type": "code",
   "execution_count": 4,
   "metadata": {
    "execution": {
     "iopub.execute_input": "2021-03-17T14:35:05.516132Z",
     "iopub.status.busy": "2021-03-17T14:35:05.515464Z",
     "iopub.status.idle": "2021-03-17T14:35:07.004953Z",
     "shell.execute_reply": "2021-03-17T14:35:07.004367Z"
    },
    "papermill": {
     "duration": 1.504245,
     "end_time": "2021-03-17T14:35:07.005132",
     "exception": false,
     "start_time": "2021-03-17T14:35:05.500887",
     "status": "completed"
    },
    "tags": []
   },
   "outputs": [],
   "source": [
    "from sklearn.model_selection import train_test_split\n",
    "\n",
    "Target=target=train['Label']\n",
    "Train=train.drop('Label',axis=1)\n",
    "\n",
    "X_tr,X_val,y_tr,y_val=train_test_split(Train,Target,test_size=0.2,stratify=Target,random_state=71)"
   ]
  },
  {
   "cell_type": "code",
   "execution_count": 5,
   "metadata": {
    "execution": {
     "iopub.execute_input": "2021-03-17T14:35:07.032252Z",
     "iopub.status.busy": "2021-03-17T14:35:07.030821Z",
     "iopub.status.idle": "2021-03-17T14:35:33.009456Z",
     "shell.execute_reply": "2021-03-17T14:35:33.008632Z"
    },
    "papermill": {
     "duration": 25.995466,
     "end_time": "2021-03-17T14:35:33.009630",
     "exception": false,
     "start_time": "2021-03-17T14:35:07.014164",
     "status": "completed"
    },
    "tags": []
   },
   "outputs": [],
   "source": [
    "tr_arr=[]\n",
    "val_arr=[]\n",
    "test_arr=[]\n",
    "\n",
    "for i,row in X_tr.iterrows():\n",
    "    target=y_tr.loc[i]\n",
    "    label=f\"__label__{target}\"+\" \"+str(row['Text'])\n",
    "    tr_arr.append(label)\n",
    "\n",
    "for i,row in X_val.iterrows():\n",
    "    val_arr.append(str(row['Text']))\n",
    "    \n",
    "for i,row in test.iterrows():\n",
    "    test_arr.append(str(row['Text']))"
   ]
  },
  {
   "cell_type": "code",
   "execution_count": 6,
   "metadata": {
    "execution": {
     "iopub.execute_input": "2021-03-17T14:35:33.054348Z",
     "iopub.status.busy": "2021-03-17T14:35:33.053610Z",
     "iopub.status.idle": "2021-03-17T14:35:34.949404Z",
     "shell.execute_reply": "2021-03-17T14:35:34.948808Z"
    },
    "papermill": {
     "duration": 1.93002,
     "end_time": "2021-03-17T14:35:34.949566",
     "exception": false,
     "start_time": "2021-03-17T14:35:33.019546",
     "status": "completed"
    },
    "tags": []
   },
   "outputs": [],
   "source": [
    "train_df=pd.DataFrame(tr_arr)\n",
    "train_df.to_csv('train.txt',index=False,sep=' ',header=False,quoting=csv.QUOTE_NONE,quotechar=\"\",escapechar=\" \")"
   ]
  },
  {
   "cell_type": "code",
   "execution_count": 7,
   "metadata": {
    "execution": {
     "iopub.execute_input": "2021-03-17T14:35:34.974111Z",
     "iopub.status.busy": "2021-03-17T14:35:34.973385Z",
     "iopub.status.idle": "2021-03-17T14:35:40.130904Z",
     "shell.execute_reply": "2021-03-17T14:35:40.131533Z"
    },
    "papermill": {
     "duration": 5.172833,
     "end_time": "2021-03-17T14:35:40.131752",
     "exception": false,
     "start_time": "2021-03-17T14:35:34.958919",
     "status": "completed"
    },
    "tags": []
   },
   "outputs": [],
   "source": [
    "model=fasttext.train_supervised('train.txt',label_prefix='__label__',epoch=5)"
   ]
  },
  {
   "cell_type": "code",
   "execution_count": 8,
   "metadata": {
    "execution": {
     "iopub.execute_input": "2021-03-17T14:35:40.175342Z",
     "iopub.status.busy": "2021-03-17T14:35:40.159666Z",
     "iopub.status.idle": "2021-03-17T14:35:40.905800Z",
     "shell.execute_reply": "2021-03-17T14:35:40.906829Z"
    },
    "papermill": {
     "duration": 0.765787,
     "end_time": "2021-03-17T14:35:40.907105",
     "exception": false,
     "start_time": "2021-03-17T14:35:40.141318",
     "status": "completed"
    },
    "tags": []
   },
   "outputs": [
    {
     "name": "stdout",
     "output_type": "stream",
     "text": [
      "val_acc : 0.9026733285258062\n"
     ]
    }
   ],
   "source": [
    "from sklearn.metrics import accuracy_score\n",
    "\n",
    "val_arr=[re.sub(r'\\n','',text) for text in val_arr]\n",
    "pred=[int(label[0][-1]) for label in model.predict(val_arr)[0]]\n",
    "print(f\"val_acc : {accuracy_score(pred,y_val.values)}\")"
   ]
  },
  {
   "cell_type": "code",
   "execution_count": 9,
   "metadata": {
    "execution": {
     "iopub.execute_input": "2021-03-17T14:35:40.941007Z",
     "iopub.status.busy": "2021-03-17T14:35:40.935589Z",
     "iopub.status.idle": "2021-03-17T14:35:42.453101Z",
     "shell.execute_reply": "2021-03-17T14:35:42.452295Z"
    },
    "papermill": {
     "duration": 1.535806,
     "end_time": "2021-03-17T14:35:42.453260",
     "exception": false,
     "start_time": "2021-03-17T14:35:40.917454",
     "status": "completed"
    },
    "tags": []
   },
   "outputs": [],
   "source": [
    "test_arr=[re.sub(r'\\n','',text) for text in test_arr]\n",
    "\n",
    "pred=[int(label[0][-1]) for label in model.predict(test_arr)[0]]"
   ]
  },
  {
   "cell_type": "code",
   "execution_count": 10,
   "metadata": {
    "execution": {
     "iopub.execute_input": "2021-03-17T14:35:42.485029Z",
     "iopub.status.busy": "2021-03-17T14:35:42.477791Z",
     "iopub.status.idle": "2021-03-17T14:35:42.532912Z",
     "shell.execute_reply": "2021-03-17T14:35:42.531761Z"
    },
    "papermill": {
     "duration": 0.069887,
     "end_time": "2021-03-17T14:35:42.533245",
     "exception": false,
     "start_time": "2021-03-17T14:35:42.463358",
     "status": "completed"
    },
    "tags": []
   },
   "outputs": [
    {
     "data": {
      "text/html": [
       "<div>\n",
       "<style scoped>\n",
       "    .dataframe tbody tr th:only-of-type {\n",
       "        vertical-align: middle;\n",
       "    }\n",
       "\n",
       "    .dataframe tbody tr th {\n",
       "        vertical-align: top;\n",
       "    }\n",
       "\n",
       "    .dataframe thead th {\n",
       "        text-align: right;\n",
       "    }\n",
       "</style>\n",
       "<table border=\"1\" class=\"dataframe\">\n",
       "  <thead>\n",
       "    <tr style=\"text-align: right;\">\n",
       "      <th></th>\n",
       "      <th>id</th>\n",
       "      <th>Label</th>\n",
       "    </tr>\n",
       "  </thead>\n",
       "  <tbody>\n",
       "    <tr>\n",
       "      <th>0</th>\n",
       "      <td>0</td>\n",
       "      <td>1</td>\n",
       "    </tr>\n",
       "    <tr>\n",
       "      <th>1</th>\n",
       "      <td>1</td>\n",
       "      <td>0</td>\n",
       "    </tr>\n",
       "    <tr>\n",
       "      <th>2</th>\n",
       "      <td>2</td>\n",
       "      <td>0</td>\n",
       "    </tr>\n",
       "    <tr>\n",
       "      <th>3</th>\n",
       "      <td>3</td>\n",
       "      <td>0</td>\n",
       "    </tr>\n",
       "    <tr>\n",
       "      <th>4</th>\n",
       "      <td>4</td>\n",
       "      <td>0</td>\n",
       "    </tr>\n",
       "  </tbody>\n",
       "</table>\n",
       "</div>"
      ],
      "text/plain": [
       "   id  Label\n",
       "0   0      1\n",
       "1   1      0\n",
       "2   2      0\n",
       "3   3      0\n",
       "4   4      0"
      ]
     },
     "execution_count": 10,
     "metadata": {},
     "output_type": "execute_result"
    }
   ],
   "source": [
    "submit['Label']=pred\n",
    "submit.head()"
   ]
  },
  {
   "cell_type": "code",
   "execution_count": 11,
   "metadata": {
    "execution": {
     "iopub.execute_input": "2021-03-17T14:35:42.560946Z",
     "iopub.status.busy": "2021-03-17T14:35:42.560227Z",
     "iopub.status.idle": "2021-03-17T14:35:42.718632Z",
     "shell.execute_reply": "2021-03-17T14:35:42.717861Z"
    },
    "papermill": {
     "duration": 0.174583,
     "end_time": "2021-03-17T14:35:42.718794",
     "exception": false,
     "start_time": "2021-03-17T14:35:42.544211",
     "status": "completed"
    },
    "tags": []
   },
   "outputs": [],
   "source": [
    "submit.to_csv('submission.csv',index=False)"
   ]
  }
 ],
 "metadata": {
  "kernelspec": {
   "display_name": "Python 3",
   "language": "python",
   "name": "python3"
  },
  "language_info": {
   "codemirror_mode": {
    "name": "ipython",
    "version": 3
   },
   "file_extension": ".py",
   "mimetype": "text/x-python",
   "name": "python",
   "nbconvert_exporter": "python",
   "pygments_lexer": "ipython3",
   "version": "3.7.9"
  },
  "papermill": {
   "default_parameters": {},
   "duration": 47.144189,
   "end_time": "2021-03-17T14:35:43.746105",
   "environment_variables": {},
   "exception": null,
   "input_path": "__notebook__.ipynb",
   "output_path": "__notebook__.ipynb",
   "parameters": {},
   "start_time": "2021-03-17T14:34:56.601916",
   "version": "2.2.2"
  }
 },
 "nbformat": 4,
 "nbformat_minor": 4
}
