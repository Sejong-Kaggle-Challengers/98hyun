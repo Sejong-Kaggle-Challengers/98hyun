{
 "cells": [
  {
   "cell_type": "markdown",
   "metadata": {},
   "source": [
    "# 도입"
   ]
  },
  {
   "cell_type": "markdown",
   "metadata": {},
   "source": [
    "#### 병원 개/폐업 분류 예측 경진대회"
   ]
  },
  {
   "cell_type": "markdown",
   "metadata": {},
   "source": [
    "#### 2020.12.15  \n",
    " \n",
    "1. baseline code.  \n",
    "2. 변수 탐색 x -> 결측값만.  \n",
    "3. 시간 변수 처리 수치화 어떻게 모델에 잘 녹일지.  \n",
    "4. 평균,중앙값 중 어떤걸 대체. (일단 평균)  \n",
    "5. 모델 선택. (scikit-learn cheet sheet)     \n",
    "    5-1. LinearSVC 는 안먹힌다. convergen?   \n",
    "    5-2. SVC 실행 시 [Libsvm] 계속 먹통. -> kernel='linear' 로 해결. \n",
    "        5-2-1. kernel : 방법?\n",
    "    \n",
    "#### 2020.12.16\n",
    "\n",
    "1. 모델 설명하는 shap로 하고 변수들의 중요도 파악 후 데이터 분석    \n",
    "    1-1. 위가 맞는지 분석을 하고 모델에 넣고 중요도를 파악하는게 맞는지.  \n",
    "    1-2. shap 로 했지만, 교차검증으로 한 모델들은 클래스를 한개밖에 못읽는다. 그렇게 된거?  \n",
    "2. shap로 나온 특성들을 우선 분석.\n",
    "\n",
    "#### 2020.12.18\n",
    "\n",
    "1. 코드 공유를 봤는데 간단한 전처리만 했다.\n",
    "2. 의사 결정 트리가 생각보다 쎈거같다.\n",
    "3. 각각의 모델마다 다른 결과값들이 나온다. 그래서 합해야 하는것 같다. 다음엔 randomforest로 하기.\n",
    "\n",
    "#### 2020.12.21\n",
    "\n",
    "1. 모델   \n",
    "    1-1. 의사결정트리    \n",
    "    1-2. naive bayes    \n",
    "    1-3. support vector machine.  \n",
    "    1-4. logistic regression.  \n",
    "    1-5. decision tree.\n",
    "        * 문제점 : 왜인지 같은 점수가 나온다. 비슷해서?\n",
    "2. 스케일\n",
    "    2-1. minmax 사용. -> 레이블값도 0,1 로 다같이 스케일을 통일.\n",
    "    \n",
    "#### [마지막 장소](#last)"
   ]
  },
  {
   "cell_type": "markdown",
   "metadata": {},
   "source": [
    "### 순서"
   ]
  },
  {
   "cell_type": "markdown",
   "metadata": {},
   "source": [
    "1. 데이터 셋 확인\n",
    "2. 탐색적 데이터 분석\n",
    "3. 특성 공학\n",
    "4. 모델 개발 및 학습\n",
    "5. 모델 예측 및 평가"
   ]
  },
  {
   "cell_type": "code",
   "execution_count": 117,
   "metadata": {},
   "outputs": [],
   "source": [
    "# 필요한 라이브러리\n",
    "\n",
    "import numpy as np\n",
    "import pandas as pd\n",
    "import matplotlib.pyplot as plt\n",
    "import seaborn as sns"
   ]
  },
  {
   "cell_type": "code",
   "execution_count": 118,
   "metadata": {},
   "outputs": [],
   "source": [
    "# 데이터 불러오기 \n",
    "\n",
    "train=pd.read_csv('./data02/train.csv')\n",
    "test=pd.read_csv('./data02/test.csv')\n",
    "submission=pd.read_csv('./data02/submission_sample.csv')"
   ]
  },
  {
   "cell_type": "code",
   "execution_count": 119,
   "metadata": {
    "scrolled": true
   },
   "outputs": [
    {
     "data": {
      "text/html": [
       "<div>\n",
       "<style scoped>\n",
       "    .dataframe tbody tr th:only-of-type {\n",
       "        vertical-align: middle;\n",
       "    }\n",
       "\n",
       "    .dataframe tbody tr th {\n",
       "        vertical-align: top;\n",
       "    }\n",
       "\n",
       "    .dataframe thead th {\n",
       "        text-align: right;\n",
       "    }\n",
       "</style>\n",
       "<table border=\"1\" class=\"dataframe\">\n",
       "  <thead>\n",
       "    <tr style=\"text-align: right;\">\n",
       "      <th></th>\n",
       "      <th>inst_id</th>\n",
       "      <th>OC</th>\n",
       "      <th>sido</th>\n",
       "      <th>sgg</th>\n",
       "      <th>openDate</th>\n",
       "      <th>bedCount</th>\n",
       "      <th>instkind</th>\n",
       "      <th>revenue1</th>\n",
       "      <th>salescost1</th>\n",
       "      <th>sga1</th>\n",
       "      <th>...</th>\n",
       "      <th>debt2</th>\n",
       "      <th>liquidLiabilities2</th>\n",
       "      <th>shortLoan2</th>\n",
       "      <th>NCLiabilities2</th>\n",
       "      <th>longLoan2</th>\n",
       "      <th>netAsset2</th>\n",
       "      <th>surplus2</th>\n",
       "      <th>employee1</th>\n",
       "      <th>employee2</th>\n",
       "      <th>ownerChange</th>\n",
       "    </tr>\n",
       "  </thead>\n",
       "  <tbody>\n",
       "    <tr>\n",
       "      <th>0</th>\n",
       "      <td>1</td>\n",
       "      <td>open</td>\n",
       "      <td>choongnam</td>\n",
       "      <td>73</td>\n",
       "      <td>20071228</td>\n",
       "      <td>175.0</td>\n",
       "      <td>nursing_hospital</td>\n",
       "      <td>4.217530e+09</td>\n",
       "      <td>0.0</td>\n",
       "      <td>3.961135e+09</td>\n",
       "      <td>...</td>\n",
       "      <td>7.589937e+08</td>\n",
       "      <td>2.228769e+08</td>\n",
       "      <td>0.000000e+00</td>\n",
       "      <td>5.361169e+08</td>\n",
       "      <td>3.900000e+08</td>\n",
       "      <td>2.619290e+09</td>\n",
       "      <td>1.271224e+09</td>\n",
       "      <td>62.0</td>\n",
       "      <td>64.0</td>\n",
       "      <td>same</td>\n",
       "    </tr>\n",
       "    <tr>\n",
       "      <th>1</th>\n",
       "      <td>3</td>\n",
       "      <td>open</td>\n",
       "      <td>gyeongnam</td>\n",
       "      <td>32</td>\n",
       "      <td>19970401</td>\n",
       "      <td>410.0</td>\n",
       "      <td>general_hospital</td>\n",
       "      <td>NaN</td>\n",
       "      <td>NaN</td>\n",
       "      <td>NaN</td>\n",
       "      <td>...</td>\n",
       "      <td>NaN</td>\n",
       "      <td>NaN</td>\n",
       "      <td>NaN</td>\n",
       "      <td>NaN</td>\n",
       "      <td>NaN</td>\n",
       "      <td>NaN</td>\n",
       "      <td>NaN</td>\n",
       "      <td>801.0</td>\n",
       "      <td>813.0</td>\n",
       "      <td>same</td>\n",
       "    </tr>\n",
       "    <tr>\n",
       "      <th>2</th>\n",
       "      <td>4</td>\n",
       "      <td>open</td>\n",
       "      <td>gyeonggi</td>\n",
       "      <td>89</td>\n",
       "      <td>20161228</td>\n",
       "      <td>468.0</td>\n",
       "      <td>nursing_hospital</td>\n",
       "      <td>1.004522e+09</td>\n",
       "      <td>515483669.0</td>\n",
       "      <td>4.472197e+08</td>\n",
       "      <td>...</td>\n",
       "      <td>0.000000e+00</td>\n",
       "      <td>0.000000e+00</td>\n",
       "      <td>0.000000e+00</td>\n",
       "      <td>0.000000e+00</td>\n",
       "      <td>0.000000e+00</td>\n",
       "      <td>0.000000e+00</td>\n",
       "      <td>0.000000e+00</td>\n",
       "      <td>234.0</td>\n",
       "      <td>1.0</td>\n",
       "      <td>same</td>\n",
       "    </tr>\n",
       "    <tr>\n",
       "      <th>3</th>\n",
       "      <td>7</td>\n",
       "      <td>open</td>\n",
       "      <td>incheon</td>\n",
       "      <td>141</td>\n",
       "      <td>20000814</td>\n",
       "      <td>353.0</td>\n",
       "      <td>general_hospital</td>\n",
       "      <td>7.250734e+10</td>\n",
       "      <td>0.0</td>\n",
       "      <td>7.067740e+10</td>\n",
       "      <td>...</td>\n",
       "      <td>3.775501e+10</td>\n",
       "      <td>1.701860e+10</td>\n",
       "      <td>9.219427e+09</td>\n",
       "      <td>2.073641e+10</td>\n",
       "      <td>1.510000e+10</td>\n",
       "      <td>1.295427e+10</td>\n",
       "      <td>7.740829e+09</td>\n",
       "      <td>663.0</td>\n",
       "      <td>663.0</td>\n",
       "      <td>same</td>\n",
       "    </tr>\n",
       "    <tr>\n",
       "      <th>4</th>\n",
       "      <td>9</td>\n",
       "      <td>open</td>\n",
       "      <td>gyeongnam</td>\n",
       "      <td>32</td>\n",
       "      <td>20050901</td>\n",
       "      <td>196.0</td>\n",
       "      <td>general_hospital</td>\n",
       "      <td>4.904354e+10</td>\n",
       "      <td>0.0</td>\n",
       "      <td>4.765605e+10</td>\n",
       "      <td>...</td>\n",
       "      <td>5.143259e+10</td>\n",
       "      <td>3.007259e+10</td>\n",
       "      <td>1.759375e+10</td>\n",
       "      <td>2.136001e+10</td>\n",
       "      <td>1.410803e+10</td>\n",
       "      <td>5.561941e+06</td>\n",
       "      <td>9.025550e+09</td>\n",
       "      <td>206.0</td>\n",
       "      <td>197.0</td>\n",
       "      <td>same</td>\n",
       "    </tr>\n",
       "  </tbody>\n",
       "</table>\n",
       "<p>5 rows × 58 columns</p>\n",
       "</div>"
      ],
      "text/plain": [
       "   inst_id    OC       sido  sgg  openDate  bedCount          instkind  \\\n",
       "0        1  open  choongnam   73  20071228     175.0  nursing_hospital   \n",
       "1        3  open  gyeongnam   32  19970401     410.0  general_hospital   \n",
       "2        4  open   gyeonggi   89  20161228     468.0  nursing_hospital   \n",
       "3        7  open    incheon  141  20000814     353.0  general_hospital   \n",
       "4        9  open  gyeongnam   32  20050901     196.0  general_hospital   \n",
       "\n",
       "       revenue1   salescost1          sga1  ...         debt2  \\\n",
       "0  4.217530e+09          0.0  3.961135e+09  ...  7.589937e+08   \n",
       "1           NaN          NaN           NaN  ...           NaN   \n",
       "2  1.004522e+09  515483669.0  4.472197e+08  ...  0.000000e+00   \n",
       "3  7.250734e+10          0.0  7.067740e+10  ...  3.775501e+10   \n",
       "4  4.904354e+10          0.0  4.765605e+10  ...  5.143259e+10   \n",
       "\n",
       "   liquidLiabilities2    shortLoan2  NCLiabilities2     longLoan2  \\\n",
       "0        2.228769e+08  0.000000e+00    5.361169e+08  3.900000e+08   \n",
       "1                 NaN           NaN             NaN           NaN   \n",
       "2        0.000000e+00  0.000000e+00    0.000000e+00  0.000000e+00   \n",
       "3        1.701860e+10  9.219427e+09    2.073641e+10  1.510000e+10   \n",
       "4        3.007259e+10  1.759375e+10    2.136001e+10  1.410803e+10   \n",
       "\n",
       "      netAsset2      surplus2  employee1  employee2  ownerChange  \n",
       "0  2.619290e+09  1.271224e+09       62.0       64.0         same  \n",
       "1           NaN           NaN      801.0      813.0         same  \n",
       "2  0.000000e+00  0.000000e+00      234.0        1.0         same  \n",
       "3  1.295427e+10  7.740829e+09      663.0      663.0         same  \n",
       "4  5.561941e+06  9.025550e+09      206.0      197.0         same  \n",
       "\n",
       "[5 rows x 58 columns]"
      ]
     },
     "execution_count": 119,
     "metadata": {},
     "output_type": "execute_result"
    }
   ],
   "source": [
    "# 데이터 셋 확인\n",
    "\n",
    "train.head()"
   ]
  },
  {
   "cell_type": "code",
   "execution_count": 120,
   "metadata": {
    "scrolled": true
   },
   "outputs": [
    {
     "data": {
      "text/html": [
       "<div>\n",
       "<style scoped>\n",
       "    .dataframe tbody tr th:only-of-type {\n",
       "        vertical-align: middle;\n",
       "    }\n",
       "\n",
       "    .dataframe tbody tr th {\n",
       "        vertical-align: top;\n",
       "    }\n",
       "\n",
       "    .dataframe thead th {\n",
       "        text-align: right;\n",
       "    }\n",
       "</style>\n",
       "<table border=\"1\" class=\"dataframe\">\n",
       "  <thead>\n",
       "    <tr style=\"text-align: right;\">\n",
       "      <th></th>\n",
       "      <th>inst_id</th>\n",
       "      <th>OC</th>\n",
       "      <th>sido</th>\n",
       "      <th>sgg</th>\n",
       "      <th>openDate</th>\n",
       "      <th>bedCount</th>\n",
       "      <th>instkind</th>\n",
       "      <th>revenue1</th>\n",
       "      <th>salescost1</th>\n",
       "      <th>sga1</th>\n",
       "      <th>...</th>\n",
       "      <th>debt2</th>\n",
       "      <th>liquidLiabilities2</th>\n",
       "      <th>shortLoan2</th>\n",
       "      <th>NCLiabilities2</th>\n",
       "      <th>longLoan2</th>\n",
       "      <th>netAsset2</th>\n",
       "      <th>surplus2</th>\n",
       "      <th>employee1</th>\n",
       "      <th>employee2</th>\n",
       "      <th>ownerChange</th>\n",
       "    </tr>\n",
       "  </thead>\n",
       "  <tbody>\n",
       "    <tr>\n",
       "      <th>0</th>\n",
       "      <td>2</td>\n",
       "      <td>NaN</td>\n",
       "      <td>incheon</td>\n",
       "      <td>139</td>\n",
       "      <td>19981125.0</td>\n",
       "      <td>300.0</td>\n",
       "      <td>general_hospital</td>\n",
       "      <td>6.682486e+10</td>\n",
       "      <td>0.000000e+00</td>\n",
       "      <td>6.565709e+10</td>\n",
       "      <td>...</td>\n",
       "      <td>5.540643e+10</td>\n",
       "      <td>5.068443e+10</td>\n",
       "      <td>3.714334e+10</td>\n",
       "      <td>4.720000e+09</td>\n",
       "      <td>4.690000e+09</td>\n",
       "      <td>1.608540e+10</td>\n",
       "      <td>8.944587e+09</td>\n",
       "      <td>693</td>\n",
       "      <td>693</td>\n",
       "      <td>same</td>\n",
       "    </tr>\n",
       "    <tr>\n",
       "      <th>1</th>\n",
       "      <td>5</td>\n",
       "      <td>NaN</td>\n",
       "      <td>jeju</td>\n",
       "      <td>149</td>\n",
       "      <td>20160309.0</td>\n",
       "      <td>44.0</td>\n",
       "      <td>hospital</td>\n",
       "      <td>3.495758e+10</td>\n",
       "      <td>0.000000e+00</td>\n",
       "      <td>3.259270e+10</td>\n",
       "      <td>...</td>\n",
       "      <td>6.730838e+10</td>\n",
       "      <td>4.209828e+10</td>\n",
       "      <td>2.420000e+10</td>\n",
       "      <td>2.521009e+10</td>\n",
       "      <td>1.830000e+10</td>\n",
       "      <td>3.789135e+09</td>\n",
       "      <td>0.000000e+00</td>\n",
       "      <td>379</td>\n",
       "      <td>371</td>\n",
       "      <td>same</td>\n",
       "    </tr>\n",
       "    <tr>\n",
       "      <th>2</th>\n",
       "      <td>6</td>\n",
       "      <td>NaN</td>\n",
       "      <td>jeonnam</td>\n",
       "      <td>103</td>\n",
       "      <td>19890427.0</td>\n",
       "      <td>276.0</td>\n",
       "      <td>general_hospital</td>\n",
       "      <td>2.326031e+10</td>\n",
       "      <td>2.542571e+09</td>\n",
       "      <td>2.308749e+10</td>\n",
       "      <td>...</td>\n",
       "      <td>0.000000e+00</td>\n",
       "      <td>2.777589e+10</td>\n",
       "      <td>2.182278e+10</td>\n",
       "      <td>0.000000e+00</td>\n",
       "      <td>0.000000e+00</td>\n",
       "      <td>0.000000e+00</td>\n",
       "      <td>1.638540e+10</td>\n",
       "      <td>NaN</td>\n",
       "      <td>NaN</td>\n",
       "      <td>NaN</td>\n",
       "    </tr>\n",
       "    <tr>\n",
       "      <th>3</th>\n",
       "      <td>8</td>\n",
       "      <td>NaN</td>\n",
       "      <td>busan</td>\n",
       "      <td>71</td>\n",
       "      <td>20100226.0</td>\n",
       "      <td>363.0</td>\n",
       "      <td>general_hospital</td>\n",
       "      <td>0.000000e+00</td>\n",
       "      <td>0.000000e+00</td>\n",
       "      <td>0.000000e+00</td>\n",
       "      <td>...</td>\n",
       "      <td>1.211517e+10</td>\n",
       "      <td>9.556237e+09</td>\n",
       "      <td>4.251867e+09</td>\n",
       "      <td>2.558931e+09</td>\n",
       "      <td>0.000000e+00</td>\n",
       "      <td>3.914284e+10</td>\n",
       "      <td>0.000000e+00</td>\n",
       "      <td>760</td>\n",
       "      <td>760</td>\n",
       "      <td>same</td>\n",
       "    </tr>\n",
       "    <tr>\n",
       "      <th>4</th>\n",
       "      <td>10</td>\n",
       "      <td>NaN</td>\n",
       "      <td>jeonbuk</td>\n",
       "      <td>26</td>\n",
       "      <td>20040604.0</td>\n",
       "      <td>213.0</td>\n",
       "      <td>general_hospital</td>\n",
       "      <td>5.037025e+10</td>\n",
       "      <td>0.000000e+00</td>\n",
       "      <td>4.855803e+10</td>\n",
       "      <td>...</td>\n",
       "      <td>4.395973e+10</td>\n",
       "      <td>7.535567e+09</td>\n",
       "      <td>3.298427e+09</td>\n",
       "      <td>3.642417e+10</td>\n",
       "      <td>2.134712e+10</td>\n",
       "      <td>2.574488e+10</td>\n",
       "      <td>1.507269e+10</td>\n",
       "      <td>437</td>\n",
       "      <td>385</td>\n",
       "      <td>same</td>\n",
       "    </tr>\n",
       "  </tbody>\n",
       "</table>\n",
       "<p>5 rows × 58 columns</p>\n",
       "</div>"
      ],
      "text/plain": [
       "   inst_id  OC     sido  sgg    openDate  bedCount          instkind  \\\n",
       "0        2 NaN  incheon  139  19981125.0     300.0  general_hospital   \n",
       "1        5 NaN     jeju  149  20160309.0      44.0          hospital   \n",
       "2        6 NaN  jeonnam  103  19890427.0     276.0  general_hospital   \n",
       "3        8 NaN    busan   71  20100226.0     363.0  general_hospital   \n",
       "4       10 NaN  jeonbuk   26  20040604.0     213.0  general_hospital   \n",
       "\n",
       "       revenue1    salescost1          sga1  ...         debt2  \\\n",
       "0  6.682486e+10  0.000000e+00  6.565709e+10  ...  5.540643e+10   \n",
       "1  3.495758e+10  0.000000e+00  3.259270e+10  ...  6.730838e+10   \n",
       "2  2.326031e+10  2.542571e+09  2.308749e+10  ...  0.000000e+00   \n",
       "3  0.000000e+00  0.000000e+00  0.000000e+00  ...  1.211517e+10   \n",
       "4  5.037025e+10  0.000000e+00  4.855803e+10  ...  4.395973e+10   \n",
       "\n",
       "   liquidLiabilities2    shortLoan2  NCLiabilities2     longLoan2  \\\n",
       "0        5.068443e+10  3.714334e+10    4.720000e+09  4.690000e+09   \n",
       "1        4.209828e+10  2.420000e+10    2.521009e+10  1.830000e+10   \n",
       "2        2.777589e+10  2.182278e+10    0.000000e+00  0.000000e+00   \n",
       "3        9.556237e+09  4.251867e+09    2.558931e+09  0.000000e+00   \n",
       "4        7.535567e+09  3.298427e+09    3.642417e+10  2.134712e+10   \n",
       "\n",
       "      netAsset2      surplus2  employee1  employee2  ownerChange  \n",
       "0  1.608540e+10  8.944587e+09        693        693         same  \n",
       "1  3.789135e+09  0.000000e+00        379        371         same  \n",
       "2  0.000000e+00  1.638540e+10        NaN        NaN          NaN  \n",
       "3  3.914284e+10  0.000000e+00        760        760         same  \n",
       "4  2.574488e+10  1.507269e+10        437        385         same  \n",
       "\n",
       "[5 rows x 58 columns]"
      ]
     },
     "execution_count": 120,
     "metadata": {},
     "output_type": "execute_result"
    }
   ],
   "source": [
    "# 데이터셋 확인\n",
    "\n",
    "test.head()"
   ]
  },
  {
   "cell_type": "markdown",
   "metadata": {},
   "source": [
    "train.csv - 의료기관이 폐업했는지 여부를 포함하여 최근 2개년의 재무정보와 병원 기본정보   \n",
    "\n",
    "test.csv - 폐업 여부를 제외하고 train.csv와 동일   \n",
    "\n",
    "sample_submission.csv - inst_id와 open과 close를 예측하는 OC 두개의 열로 구성. OC의 값은 open 예측일 경우 1,   close 예측일 경우 0.  \n",
    "\n",
    "\n",
    "\n",
    "inst_id - 각 파일에서의 병원 고유 번호  \n",
    "\n",
    "OC – 영업/폐업 분류, 2018년 폐업은 2017년 폐업으로 간주함\n",
    "\n",
    "sido – 병원의 광역 지역 정보\n",
    "\n",
    "sgg – 병원의 시군구 자료\n",
    "\n",
    "openDate – 병원 설립일\n",
    "\n",
    "bedCount - 병원이 갖추고 있는 병상의 수\n",
    "\n",
    "instkind – 병원, 의원, 요양병원, 한의원, 종합병원 등 병원의 종류\n",
    "\n",
    "·        종합병원 : 입원환자 100명 이상 수용 가능\n",
    "\n",
    "·        병원 : 입원 환자 30명 이상 100명 미만 수용 가능\n",
    "\n",
    "·        의원 : 입원 환자 30명 이하 수용 가능\n",
    "\n",
    "·        한방 병원(한의원) : 침술과 한약으로 치료하는 의료 기관.  \n",
    "\n",
    " \n",
    "\n",
    "revenue1 – 매출액, 2017(회계년도)년 데이터를 의미함\n",
    "\n",
    "salescost1 – 매출원가, 2017(회계년도)년 데이터를 의미함\n",
    "\n",
    "sga1 - 판매비와 관리비, 2017(회계년도)년 데이터를 의미함\n",
    "\n",
    "salary1 – 급여, 2017(회계년도)년 데이터를 의미함\n",
    "\n",
    "noi1 – 영업외수익, 2017(회계년도)년 데이터를 의미함\n",
    "\n",
    "noe1 – 영업외비용, 2017(회계년도)년 데이터를 의미함\n",
    "\n",
    "Interest1 – 이자비용, 2017(회계년도)년 데이터를 의미함\n",
    "\n",
    "ctax1 – 법인세비용, 2017(회계년도)년 데이터를 의미함\n",
    "\n",
    "Profit1 – 당기순이익, 2017(회계년도)년 데이터를 의미함\n",
    "\n",
    "liquidAsset1 – 유동자산, 2017(회계년도)년 데이터를 의미함\n",
    "\n",
    "quickAsset1 – 당좌자산, 2017(회계년도)년 데이터를 의미함\n",
    "\n",
    "receivableS1 - 미수금(단기), 2017(회계년도)년 데이터를 의미함\n",
    "\n",
    "inventoryAsset1 – 재고자산, 2017(회계년도)년 데이터를 의미함\n",
    "\n",
    "nonCAsset1 – 비유동자산, 2017(회계년도)년 데이터를 의미함\n",
    "\n",
    "tanAsset1 – 유형자산, 2017(회계년도)년 데이터를 의미함\n",
    "\n",
    "OnonCAsset1 - 기타 비유동자산, 2017(회계년도)년 데이터를 의미함\n",
    "\n",
    "receivableL1 – 장기미수금, 2017(회계년도)년 데이터를 의미함\n",
    "\n",
    "debt1 – 부채총계, 2017(회계년도)년 데이터를 의미함\n",
    "\n",
    "liquidLiabilities1 – 유동부채, 2017(회계년도)년 데이터를 의미함\n",
    "\n",
    "shortLoan1 – 단기차입금, 2017(회계년도)년 데이터를 의미함\n",
    "\n",
    "NCLiabilities1 – 비유동부채, 2017(회계년도)년 데이터를 의미함\n",
    "\n",
    "longLoan1 – 장기차입금, 2017(회계년도)년 데이터를 의미함\n",
    "\n",
    "netAsset1 – 순자산총계, 2017(회계년도)년 데이터를 의미함\n",
    "\n",
    "surplus1 – 이익잉여금, 2017(회계년도)년 데이터를 의미함\n",
    "\n",
    " \n",
    "\n",
    "revenue2 – 매출액, 2016(회계년도)년 데이터를 의미함\n",
    "\n",
    "salescost2 – 매출원가, 2016(회계년도)년 데이터를 의미함\n",
    "\n",
    "sga2 - 판매비와 관리비, 2016(회계년도)년 데이터를 의미함\n",
    "\n",
    "salary2 – 급여, 2016(회계년도)년 데이터를 의미함\n",
    "\n",
    "noi2 – 영업외수익, 2016(회계년도)년 데이터를 의미함\n",
    "\n",
    "noe2 – 영업외비용, 2016(회계년도)년 데이터를 의미함\n",
    "\n",
    "interest2 – 이자비용, 2016(회계년도)년 데이터를 의미함\n",
    "\n",
    "ctax2 – 법인세비용, 2016(회계년도)년 데이터를 의미함\n",
    "\n",
    "profit2 – 당기순이익, 2016(회계년도)년 데이터를 의미함\n",
    "\n",
    "liquidAsset2 – 유동자산, 2016(회계년도)년 데이터를 의미함\n",
    "\n",
    "quickAsset2 – 당좌자산, 2016(회계년도)년 데이터를 의미함\n",
    "\n",
    "receivableS2 - 미수금(단기), 2016(회계년도)년 데이터를 의미함\n",
    "\n",
    "inventoryAsset2 – 재고자산, 2016(회계년도)년 데이터를 의미함\n",
    "\n",
    "nonCAsset2 – 비유동자산, 2016(회계년도)년 데이터를 의미함\n",
    "\n",
    "tanAsset2 – 유형자산, 2016(회계년도)년 데이터를 의미함\n",
    "\n",
    "OnonCAsset2 - 기타 비유동자산, 2016(회계년도)년 데이터를 의미함\n",
    "\n",
    "receivableL2 – 장기미수금, 2016(회계년도)년 데이터를 의미함\n",
    "\n",
    "Debt2 – 부채총계, 2016(회계년도)년 데이터를 의미함\n",
    "\n",
    "liquidLiabilities2 – 유동부채, 2016(회계년도)년 데이터를 의미함\n",
    "\n",
    "shortLoan2 – 단기차입금, 2016(회계년도)년 데이터를 의미함\n",
    "\n",
    "NCLiabilities2 – 비유동부채, 2016(회계년도)년 데이터를 의미함\n",
    "\n",
    "longLoan2 – 장기차입금, 2016(회계년도)년 데이터를 의미함\n",
    "\n",
    "netAsset2 – 순자산총계, 2016(회계년도)년 데이터를 의미함\n",
    "\n",
    "surplus2 – 이익잉여금, 2016(회계년도)년 데이터를 의미함\n",
    "\n",
    "employee1 – 고용한 총 직원의 수, 2017(회계년도)년 데이터를 의미함\n",
    "\n",
    "employee2 – 고용한 총 직원의 수, 2016(회계년도)년 데이터를 의미함\n",
    "\n",
    "ownerChange – 대표자의 변동 "
   ]
  },
  {
   "cell_type": "markdown",
   "metadata": {},
   "source": [
    "### 데이터 분석 순서.\n",
    "\n",
    "#### 1. train , test 합체.\n",
    "\n",
    "#### 2. 결측값 제거. 혹은 대체"
   ]
  },
  {
   "cell_type": "code",
   "execution_count": 121,
   "metadata": {},
   "outputs": [],
   "source": [
    "n=train.shape[0]\n",
    "data=pd.concat([train,test],axis=0).reset_index(drop=True)"
   ]
  },
  {
   "cell_type": "code",
   "execution_count": 122,
   "metadata": {
    "scrolled": true
   },
   "outputs": [],
   "source": [
    "# 탐색적 데이터 분석 \n",
    "\n",
    "# object 데이터 타입 \n",
    "\n",
    "categorical_cols=[col for col in data.columns if data[col].dtype=='object']\n",
    "# data[categorical_cols].isna().sum()\n",
    "# data[categorical_cols].loc[data['instkind'].isnull()]"
   ]
  },
  {
   "cell_type": "code",
   "execution_count": 123,
   "metadata": {},
   "outputs": [],
   "source": [
    "# data.loc[421,:]\n",
    "\n",
    "# 살펴보니 traditional_hospital 과 비슷해보인다.  \n",
    "# data.groupby('instkind')['bedCount'].mean() \n",
    "\n",
    "data.loc[421,'instkind']='traditional_hospital'"
   ]
  },
  {
   "cell_type": "code",
   "execution_count": 124,
   "metadata": {},
   "outputs": [],
   "source": [
    "#구글링 결과. 가능성 있어 보인다.\n",
    "# http://www.medicaltimes.com/Users/News/NewsView.html?ID=90342\n",
    "\n",
    "data.loc[193,'instkind']='general_hospital'"
   ]
  },
  {
   "cell_type": "code",
   "execution_count": 125,
   "metadata": {},
   "outputs": [],
   "source": [
    "# 분석을 위해서\n",
    "data.loc[data['employee1']=='1,637','employee1']=1637\n",
    "data.loc[data['employee1']=='1,816','employee1']=1816\n",
    "data.loc[data['employee1']=='1,065','employee1']=1065\n",
    "data['employee1']=data['employee1'].fillna(data['employee1'].median()).astype(int)\n",
    "\n",
    "# data.groupby('instkind')['employee1'].mean()\n",
    "data.loc[426,'instkind']='general_hospital'"
   ]
  },
  {
   "cell_type": "code",
   "execution_count": 126,
   "metadata": {},
   "outputs": [],
   "source": [
    "data.loc[data['employee2']=='1,547','employee2']=1547\n",
    "data.loc[data['employee2']=='1,104','employee2']=1104\n",
    "data.loc[data['employee2']=='1,065','employee2']=1065\n",
    "data['employee2']=data['employee2'].fillna(data['employee2'].median()).astype(int)"
   ]
  },
  {
   "cell_type": "code",
   "execution_count": 127,
   "metadata": {},
   "outputs": [],
   "source": [
    "# 탐색적 데이터 분석\n",
    "# 데이터 타입 숫자\n",
    "\n",
    "numeric_cols=[col for col in data.columns if data[col].dtype!='object']"
   ]
  },
  {
   "cell_type": "code",
   "execution_count": 128,
   "metadata": {},
   "outputs": [],
   "source": [
    "# 10개 씩 있는 뭔가 수상.\n",
    "# data[numeric_cols].isna().sum()\n",
    "\n",
    "drop_idx=data[(data.isnull().sum(axis=1) >= 10)].index[:-2]\n",
    "n-=len(drop_idx)\n",
    "data=data.drop(drop_idx,axis=0)"
   ]
  },
  {
   "cell_type": "code",
   "execution_count": 129,
   "metadata": {},
   "outputs": [],
   "source": [
    "# ownerChange 처리\n",
    "\n",
    "data.loc[data['ownerChange'].isnull(),'ownerChange']='no.know'"
   ]
  },
  {
   "cell_type": "code",
   "execution_count": 130,
   "metadata": {},
   "outputs": [],
   "source": [
    "# 시간 처리 몰라 평균 시간 넣기.\n",
    "# 시간을 어떻게 수치화 할지 고민.\n",
    "\n",
    "data['openDate']=pd.to_datetime(data['openDate'],format='%Y%m%d')\n",
    "data.loc[data['openDate'].isnull(),'openDate']=pd.to_datetime(data['openDate'],format='%Y%m%d').mean()"
   ]
  },
  {
   "cell_type": "code",
   "execution_count": 131,
   "metadata": {},
   "outputs": [],
   "source": [
    "# 날짜 다시 변경 \n",
    "\n",
    "data['openDate']=data['openDate'].dt.date\n",
    "\n",
    "def to_integer(time):\n",
    "    return 10000*time.year + 100*time.month + time.day\n",
    "\n",
    "data['openDate']=data['openDate'].apply(lambda x:to_integer(x))"
   ]
  },
  {
   "cell_type": "code",
   "execution_count": 132,
   "metadata": {},
   "outputs": [],
   "source": [
    "# 중앙값 넣기\n",
    "\n",
    "data.loc[data['bedCount'].isnull(),'bedCount']=data['bedCount'].median()"
   ]
  },
  {
   "cell_type": "code",
   "execution_count": 133,
   "metadata": {},
   "outputs": [],
   "source": [
    "# test NAN 값 채우기\n",
    "\n",
    "test_cols=[col for col in data.columns if data[col].isna().sum()>0]\n",
    "\n",
    "for col in test_cols:\n",
    "    if col=='OC':\n",
    "        continue\n",
    "    data[col]=data[col].fillna(data[col].median())"
   ]
  },
  {
   "cell_type": "code",
   "execution_count": 134,
   "metadata": {},
   "outputs": [],
   "source": [
    "# inventoryAsset2 는 재고자산 즉, 병원이 가지고있는 자산. 뒤에 1 2 는 년도를 나타낸다. 1은 2017 2가 2016\n",
    "# 그래서 inventory2가 클래스를 나누는 기준이 됨. \n",
    "\n",
    "# shortLoan1 단기 차입금 (1년안에 갚아야할 돈.)\n",
    "\n",
    "# interest2 전년도 이자\n",
    "\n",
    "# sga1 전년도 판매비 ,관리비 등.\n",
    "\n",
    "# quickAsset2 당좌자산 (1년이내 현금화 가능한 자산.) \n",
    "\n",
    "# surplus2 잉여이익금. \n",
    "\n",
    "# train[train['OC']!='open']['sido'].value_counts()\n",
    "# 경기도, 전남, 전북, 경북 등이 많이 닫았다.\n",
    "\n",
    "# train[train['OC']!='open']['inventoryAsset2'] # 17427620.333333332\n",
    "# train[train['OC']=='open'].query('inventoryAsset2 < 100000000')['OC'].value_counts() # 111165603.70143884\n",
    "# inventoryAsset2 100000000 10억. 아래는 거의 닫는다.\n",
    "\n",
    "# train[train['OC']=='open']['shortLoan1'].mean\n",
    "# shortLoan1 이 적은데 왜 닫는지.\n",
    "\n",
    "# train[train['OC']=='open']['interest2'].mean() # 219135760.66666666\n",
    "                                                 # 171180954.6942446\n",
    "# interest2 전년도 이자가 크면 거의 닫는다.\n",
    "\n",
    "# train[train['OC']=='open']['sga1'].mean() # 4518583512.466666 # open 10646136306.082733\n",
    "# sga1 전년도 판매가 적어도 닫는다.\n",
    "\n",
    "# train[train['OC']!='open']['quickAsset2'].mean() # open 3121053297.6115108 close 2829049963.4 \n",
    "# 당좌자산도 많아야한다.\n",
    "\n",
    "# train[train['OC']=='open']['surplus2']\n",
    "# surplus2 가 없다. 전년도 이익이 없다. \n"
   ]
  },
  {
   "cell_type": "code",
   "execution_count": 135,
   "metadata": {},
   "outputs": [],
   "source": [
    "# 주요 특성 기준 2개로.\n",
    "# instkind, sido\n",
    "\n",
    "# data_instkind=data.groupby('instkind').agg({'inventoryAsset2':['min','max','mean','std','var'],\n",
    "#                                             'shortLoan1':['min','max','mean','std','var'],\n",
    "#                                             'interest2':['min','max','mean','std','var'],\n",
    "#                                             'sga1':['min','max','mean','std','var'],\n",
    "#                                             'quickAsset2':['min','max','mean','std','var'],\n",
    "#                                             'surplus2':['min','max','mean','std','var']})\n",
    "# data_instkind.columns=['inventoryAsset2_min','inventoryAsset2_max','inventoryAsset2_mean',\n",
    "#                       'inventoryAsset2_std','inventoryAsset2_var','shortLoan1_min','shortLoan1_max',\n",
    "#                       'shortLoan1_mean','shortLoan1_std','shortLoan1_var','interest2_min',\n",
    "#                       'interest2_max','interest2_mean','interest2_std','interest2_var','sga1_min',\n",
    "#                       'sga1_max','sga1_mean','sga1_std','sga1_var','quickAsset2_min','quickAsset2_max',\n",
    "#                       'quickAsset2_mean','quickAsset2_std','quickAsset2_var','surplus2_min','surplus2_max',\n",
    "#                       'surplus2_mean','surplus2_std','surplus2_var']\n",
    "# data_instkind.fillna(0,inplace=True)"
   ]
  },
  {
   "cell_type": "code",
   "execution_count": 136,
   "metadata": {},
   "outputs": [],
   "source": [
    "# data_sido=data.groupby('sido').agg({'inventoryAsset2':['min','max','mean','std','var'],\n",
    "#                                             'shortLoan1':['min','max','mean','std','var'],\n",
    "#                                             'interest2':['min','max','mean','std','var'],\n",
    "#                                             'sga1':['min','max','mean','std','var'],\n",
    "#                                             'quickAsset2':['min','max','mean','std','var'],\n",
    "#                                             'surplus2':['min','max','mean','std','var']})\n",
    "# data_sido.columns=['inventoryAsset2_min_sido','inventoryAsset2_max_sido','inventoryAsset2_mean_sido',\n",
    "#                    'inventoryAsset2_std_sido','inventoryAsset2_var_sido','shortLoan1_min_sido',\n",
    "#                    'shortLoan1_max_sido','shortLoan1_mean_sido','shortLoan1_std_sido','shortLoan1_var_sido',\n",
    "#                    'interest2_min_sido','interest2_max_sido','interest2_mean_sido','interest2_std_sido',\n",
    "#                    'interest2_var_sido','sga1_min_sido','sga1_max_sido','sga1_mean_sido','sga1_std_sido',\n",
    "#                    'sga1_var_sido','quickAsset2_min_sido','quickAsset2_max_sido','quickAsset2_mean_sido',\n",
    "#                    'quickAsset2_std_sido','quickAsset2_var_sido','surplus2_min_sido','surplus2_max_sido',\n",
    "#                       'surplus2_mean_sido','surplus2_std_sido','surplus2_var_sido']\n",
    "# data_sido.fillna(0,inplace=True)"
   ]
  },
  {
   "cell_type": "code",
   "execution_count": 137,
   "metadata": {},
   "outputs": [],
   "source": [
    "# data=data.merge(data_instkind.reset_index(),on='instkind')\n",
    "# data=data.merge(data_sido.reset_index(),on='sido')"
   ]
  },
  {
   "cell_type": "code",
   "execution_count": 138,
   "metadata": {},
   "outputs": [],
   "source": [
    "# 날짜 랭크 \n",
    "\n",
    "# data['openDate']=pd.to_datetime(data['openDate'],format='%Y%m%d')\n",
    "# data['openDate_rank_sido']=data.groupby('sido')['openDate'].rank()\n",
    "# data['openDate_rank_instkind']=data.groupby('instkind')['openDate'].rank()\n",
    "# data.drop('openDate',axis=1,inplace=True)"
   ]
  },
  {
   "cell_type": "code",
   "execution_count": 139,
   "metadata": {},
   "outputs": [],
   "source": [
    "# for col in data.columns:\n",
    "#     if data[col].dtype=='int64' or data[col].dtype=='float64':\n",
    "#         fig,ax=plt.subplots(1,1,figsize=(8,6),dpi=200)\n",
    "#         ax.bar(x=data[col].index,height=data[col],edgecolor='black')\n",
    "#         ax.set_title(f\"{col}\")\n",
    "#         plt.show()\n",
    "#     else:\n",
    "#         continue"
   ]
  },
  {
   "cell_type": "code",
   "execution_count": 140,
   "metadata": {},
   "outputs": [],
   "source": [
    "data.drop(['receivableL1','receivableL2'],axis=1,inplace=True)"
   ]
  },
  {
   "cell_type": "markdown",
   "metadata": {},
   "source": [
    "### 특성 공학.\n",
    "\n",
    "#### 1. 특성 숫자화\n",
    "#### 2. 특성 표준화"
   ]
  },
  {
   "cell_type": "code",
   "execution_count": 141,
   "metadata": {},
   "outputs": [],
   "source": [
    "# 숫자화\n",
    "\n",
    "from sklearn.preprocessing import LabelEncoder\n",
    "\n",
    "encoder=LabelEncoder()\n",
    "\n",
    "for col in categorical_cols:\n",
    "    if col=='OC':\n",
    "        continue\n",
    "    data[col]=encoder.fit_transform(data[col])"
   ]
  },
  {
   "cell_type": "code",
   "execution_count": 142,
   "metadata": {
    "scrolled": true
   },
   "outputs": [],
   "source": [
    "# 표준화\n",
    "\n",
    "from sklearn.preprocessing import MinMaxScaler\n",
    "\n",
    "cols=[col for col in data.columns if col not in categorical_cols]\n",
    "minmax=MinMaxScaler()\n",
    "\n",
    "for col in cols:\n",
    "    if col=='inst_id' or col=='receivableL1' or col=='receivableL2':\n",
    "        continue\n",
    "    data[col]=minmax.fit_transform(data[col].values.reshape(-1,1))"
   ]
  },
  {
   "cell_type": "markdown",
   "metadata": {},
   "source": [
    "### 모델 개발 및 학습\n",
    "\n",
    "#### 1. 모델 randomforest\n",
    "#### 2. 학습 ( 교차 검증 ) \n",
    "#### 3. 예측 및 평가 "
   ]
  },
  {
   "cell_type": "markdown",
   "metadata": {},
   "source": [
    "<h4><a id=\"goback\">다시 분석</a></h4>"
   ]
  },
  {
   "cell_type": "code",
   "execution_count": 143,
   "metadata": {},
   "outputs": [
    {
     "data": {
      "text/plain": [
       "open      0.948805\n",
       " close    0.051195\n",
       "Name: OC, dtype: float64"
      ]
     },
     "execution_count": 143,
     "metadata": {},
     "output_type": "execute_result"
    }
   ],
   "source": [
    "# imbalance 하다.\n",
    "\n",
    "data['OC'].value_counts(normalize=True)"
   ]
  },
  {
   "cell_type": "code",
   "execution_count": 144,
   "metadata": {},
   "outputs": [],
   "source": [
    "# 데이터 차원 축소\n",
    "# 데이터 나누기\n",
    "\n",
    "y_train=data.pop('OC').iloc[:n]\n",
    "X_train=data.iloc[:n,1:]\n",
    "X_test=data.iloc[n:,1:]\n",
    "\n",
    "X_train=X_train[['openDate','profit2','revenue1','ownerChange','instkind','sgg','bedCount']]\n",
    "X_test=X_test[['openDate','profit2','revenue1','ownerChange','instkind','sgg','bedCount']]\n",
    "y_train=y_train.apply(lambda x:1 if x=='open' else 0)"
   ]
  },
  {
   "cell_type": "code",
   "execution_count": 145,
   "metadata": {},
   "outputs": [],
   "source": [
    "# 데이터 나누기\n",
    "\n",
    "# y_train=data.pop('OC').iloc[:n]\n",
    "# X_train=data.iloc[:n,1:]\n",
    "# X_test=data.iloc[n:,1:]\n",
    "\n",
    "# y_train=y_train.apply(lambda x:1 if x=='open' else 0)"
   ]
  },
  {
   "cell_type": "code",
   "execution_count": 146,
   "metadata": {
    "scrolled": true
   },
   "outputs": [
    {
     "data": {
      "text/plain": [
       "((293, 7), (127, 7), (293,))"
      ]
     },
     "execution_count": 146,
     "metadata": {},
     "output_type": "execute_result"
    }
   ],
   "source": [
    "# 확인\n",
    "\n",
    "X_train.shape,X_test.shape,y_train.shape"
   ]
  },
  {
   "cell_type": "code",
   "execution_count": 147,
   "metadata": {
    "scrolled": false
   },
   "outputs": [
    {
     "name": "stdout",
     "output_type": "stream",
     "text": [
      "[LibSVM]0.9152542372881356\n",
      "[LibSVM]0.9491525423728814\n",
      "[LibSVM]0.9830508474576272\n",
      "[LibSVM]0.9482758620689655\n",
      "[LibSVM]0.9482758620689655\n"
     ]
    }
   ],
   "source": [
    "# linearSVC 안된다.\n",
    "\n",
    "from sklearn.model_selection import KFold\n",
    "from sklearn.svm import SVC\n",
    "from sklearn.metrics import accuracy_score\n",
    "\n",
    "cv=KFold(n_splits=5,shuffle=True,random_state=2020)\n",
    "models_svc=[]\n",
    "# X_tr_copy,X_val_copy,y_tr_copy,y_val_copy=0,0,0,0\n",
    "\n",
    "for n,(train_idx,valid_idx) in enumerate(cv.split(X_train)):\n",
    "    # 데이터 나누기 \n",
    "    X_tr,X_val=X_train.iloc[train_idx],X_train.iloc[valid_idx]\n",
    "    y_tr,y_val=y_train.iloc[train_idx],y_train.iloc[valid_idx]\n",
    "    \n",
    "    # shap 데이터 너무 커서 뺐다.\n",
    "#     if n==2:\n",
    "#         X_tr_copy,X_val_copy=X_tr,X_val\n",
    "#         y_tr_copy,y_val_copy=y_tr,y_val\n",
    "        \n",
    "    # 모델 개발 및 학습\n",
    "    # kernel 정확히 무슨 뜻? rbf?\n",
    "    model=SVC(random_state=2020,\n",
    "              kernel='linear',\n",
    "              verbose=True)\n",
    "    model.fit(X_tr,y_tr)\n",
    "    models_svc.append(model)\n",
    "    \n",
    "    # 예측 및 평가\n",
    "    pred=model.predict(X_val)\n",
    "    score=(accuracy_score(pred,y_val))\n",
    "    print(score)"
   ]
  },
  {
   "cell_type": "code",
   "execution_count": 148,
   "metadata": {},
   "outputs": [
    {
     "name": "stdout",
     "output_type": "stream",
     "text": [
      "0.8813559322033898\n",
      "0.8135593220338984\n",
      "0.9322033898305084\n",
      "0.9310344827586207\n",
      "0.8103448275862069\n"
     ]
    }
   ],
   "source": [
    "# naive_bayes\n",
    "from sklearn.naive_bayes import GaussianNB\n",
    "from sklearn.model_selection import KFold\n",
    "from sklearn.metrics import accuracy_score\n",
    "\n",
    "cv=KFold(n_splits=5,shuffle=True,random_state=2020)\n",
    "models_naive=[]\n",
    "\n",
    "for n,(train_idx,valid_idx) in enumerate(cv.split(X_train)):\n",
    "    # 데이터 나누기 \n",
    "    X_tr,X_val=X_train.iloc[train_idx],X_train.iloc[valid_idx]\n",
    "    y_tr,y_val=y_train.iloc[train_idx],y_train.iloc[valid_idx]\n",
    "    \n",
    "    # 모델 개발 및 학습\n",
    "    model=GaussianNB()\n",
    "    model.fit(X_tr,y_tr)\n",
    "    models_naive.append(model)\n",
    "    \n",
    "    # 예측 및 평가\n",
    "    pred=model.predict(X_val)\n",
    "    score=(accuracy_score(pred,y_val))\n",
    "    print(score)"
   ]
  },
  {
   "cell_type": "code",
   "execution_count": 149,
   "metadata": {},
   "outputs": [
    {
     "name": "stdout",
     "output_type": "stream",
     "text": [
      "0.9152542372881356\n",
      "0.9322033898305084\n",
      "0.9830508474576272\n",
      "0.9310344827586207\n",
      "0.9482758620689655\n"
     ]
    }
   ],
   "source": [
    "# randomforest\n",
    "\n",
    "from sklearn.model_selection import KFold\n",
    "from sklearn.ensemble import RandomForestClassifier\n",
    "from sklearn.metrics import accuracy_score\n",
    "\n",
    "cv=KFold(n_splits=5,shuffle=True,random_state=2020)\n",
    "models_rf=[]\n",
    "\n",
    "for n,(train_idx,valid_idx) in enumerate(cv.split(X_train)):\n",
    "    # 데이터 나누기 \n",
    "    X_tr,X_val=X_train.iloc[train_idx],X_train.iloc[valid_idx]\n",
    "    y_tr,y_val=y_train.iloc[train_idx],y_train.iloc[valid_idx]\n",
    "    \n",
    "    # 모델 개발 및 학습\n",
    "    model=RandomForestClassifier(random_state=2020,\n",
    "                                 n_estimators=200)\n",
    "    model.fit(X_tr,y_tr)\n",
    "    models_rf.append(model)\n",
    "    \n",
    "    # 예측 및 평가\n",
    "    pred=model.predict(X_val)\n",
    "    score=(accuracy_score(pred,y_val))\n",
    "    print(score)"
   ]
  },
  {
   "cell_type": "code",
   "execution_count": 150,
   "metadata": {},
   "outputs": [
    {
     "name": "stdout",
     "output_type": "stream",
     "text": [
      "0.9152542372881356\n",
      "0.9491525423728814\n",
      "0.9830508474576272\n",
      "0.9482758620689655\n",
      "0.9482758620689655\n"
     ]
    }
   ],
   "source": [
    "# logistic regression\n",
    "\n",
    "from sklearn.model_selection import KFold\n",
    "from sklearn.linear_model import LogisticRegression\n",
    "from sklearn.metrics import accuracy_score\n",
    "\n",
    "cv=KFold(n_splits=5,shuffle=True,random_state=2020)\n",
    "models_lr=[]\n",
    "\n",
    "for n,(train_idx,valid_idx) in enumerate(cv.split(X_train)):\n",
    "    # 데이터 나누기 \n",
    "    X_tr,X_val=X_train.iloc[train_idx],X_train.iloc[valid_idx]\n",
    "    y_tr,y_val=y_train.iloc[train_idx],y_train.iloc[valid_idx]\n",
    "        \n",
    "    # 모델 개발 및 학습\n",
    "    model=LogisticRegression(solver='liblinear',\n",
    "                             random_state=2020,\n",
    "                             max_iter=200)\n",
    "    model.fit(X_tr,y_tr)\n",
    "    models_lr.append(model)\n",
    "    \n",
    "    # 예측 및 평가\n",
    "    pred=model.predict(X_val)\n",
    "    score=(accuracy_score(pred,y_val))\n",
    "    print(score)"
   ]
  },
  {
   "cell_type": "code",
   "execution_count": 151,
   "metadata": {},
   "outputs": [
    {
     "name": "stdout",
     "output_type": "stream",
     "text": [
      "0.9152542372881356\n",
      "0.9491525423728814\n",
      "0.9830508474576272\n",
      "0.9482758620689655\n",
      "0.9482758620689655\n"
     ]
    }
   ],
   "source": [
    "# knn\n",
    "\n",
    "from sklearn.neighbors import KNeighborsClassifier\n",
    "from sklearn.model_selection import KFold\n",
    "from sklearn.metrics import accuracy_score\n",
    "\n",
    "cv=KFold(n_splits=5,shuffle=True,random_state=2020)\n",
    "models_knn=[]\n",
    "\n",
    "for n,(train_idx,valid_idx) in enumerate(cv.split(X_train)):\n",
    "    # 데이터 나누기 \n",
    "    X_tr,X_val=X_train.iloc[train_idx],X_train.iloc[valid_idx]\n",
    "    y_tr,y_val=y_train.iloc[train_idx],y_train.iloc[valid_idx]\n",
    "        \n",
    "    # 모델 개발 및 학습\n",
    "    model=KNeighborsClassifier()\n",
    "    model.fit(X_tr,y_tr)\n",
    "    models_knn.append(model)\n",
    "    \n",
    "    # 예측 및 평가\n",
    "    pred=model.predict(X_val)\n",
    "    score=(accuracy_score(pred,y_val))\n",
    "    print(score)"
   ]
  },
  {
   "cell_type": "code",
   "execution_count": 152,
   "metadata": {},
   "outputs": [
    {
     "name": "stdout",
     "output_type": "stream",
     "text": [
      "0.847457627118644\n",
      "0.9152542372881356\n",
      "0.9491525423728814\n",
      "0.8275862068965517\n",
      "0.9137931034482759\n"
     ]
    }
   ],
   "source": [
    "# 의사결정트리\n",
    "\n",
    "from sklearn.tree import DecisionTreeClassifier\n",
    "from sklearn.model_selection import KFold\n",
    "from sklearn.metrics import accuracy_score\n",
    "\n",
    "cv=KFold(n_splits=5,shuffle=True,random_state=2020)\n",
    "models_dt=[]\n",
    "\n",
    "for n,(train_idx,valid_idx) in enumerate(cv.split(X_train)):\n",
    "    # 데이터 나누기 \n",
    "    X_tr,X_val=X_train.iloc[train_idx],X_train.iloc[valid_idx]\n",
    "    y_tr,y_val=y_train.iloc[train_idx],y_train.iloc[valid_idx]\n",
    "        \n",
    "    # 모델 개발 및 학습\n",
    "    model=DecisionTreeClassifier(random_state=2020)\n",
    "    model.fit(X_tr,y_tr)\n",
    "    models_dt.append(model)\n",
    "    \n",
    "    # 예측 및 평가\n",
    "    pred=model.predict(X_val)\n",
    "    score=(accuracy_score(pred,y_val))\n",
    "    print(score)"
   ]
  },
  {
   "cell_type": "markdown",
   "metadata": {},
   "source": [
    "<h4><a id=\"last\">여기부터</a></h4>"
   ]
  },
  {
   "cell_type": "markdown",
   "metadata": {},
   "source": [
    "### 방법 이름 찾기 (ensemble?)"
   ]
  },
  {
   "cell_type": "code",
   "execution_count": 163,
   "metadata": {
    "scrolled": true
   },
   "outputs": [
    {
     "data": {
      "text/plain": [
       "<AxesSubplot:>"
      ]
     },
     "execution_count": 163,
     "metadata": {},
     "output_type": "execute_result"
    },
    {
     "data": {
      "image/png": "[encoded data removed]",
      "text/plain": [
       "<Figure size 432x288 with 2 Axes>"
      ]
     },
     "metadata": {
      "needs_background": "light"
     },
     "output_type": "display_data"
    }
   ],
   "source": [
    "ensemble=pd.DataFrame({'svc':models_svc[2].predict(X_test),\n",
    "                       'rf':models_rf[2].predict(X_test),\n",
    "                       'naive':models_naive[2].predict(X_test),\n",
    "                       'knn':models_knn[2].predict(X_test),\n",
    "                       'logistic':models_lr[2].predict(X_test),\n",
    "                       'decisionTree':models_dt[2].predict(X_test)})\n",
    "# 왜 안나오는지?\n",
    "sns.heatmap(ensemble.corr(),annot=True,square=True,fmt='.2f')"
   ]
  },
  {
   "cell_type": "code",
   "execution_count": 168,
   "metadata": {},
   "outputs": [],
   "source": [
    "## 제출\n",
    "\n",
    "submission['OC']=ensemble[['rf','svc','naive','decisionTree']].all(axis=1).astype(int)\n",
    "# submission.to_csv('./submission/submission_ensemble_2020_12_21(2).csv',index=False)"
   ]
  },
  {
   "cell_type": "markdown",
   "metadata": {},
   "source": [
    "### 특성 평가\n",
    "\n",
    "#### 1. shap\n",
    "#### 2. randomforest feature importance"
   ]
  },
  {
   "cell_type": "code",
   "execution_count": 155,
   "metadata": {},
   "outputs": [],
   "source": [
    "fi=pd.DataFrame({\n",
    "    'feature':X_train.columns,\n",
    "    'importances':models_rf[2].feature_importances_\n",
    "}).sort_values(by='importances',ascending=True)"
   ]
  },
  {
   "cell_type": "code",
   "execution_count": 156,
   "metadata": {},
   "outputs": [
    {
     "data": {
      "image/png": "[encoded data removed]",
      "text/plain": [
       "<Figure size 1600x2400 with 1 Axes>"
      ]
     },
     "metadata": {
      "needs_background": "light"
     },
     "output_type": "display_data"
    }
   ],
   "source": [
    "fig,ax=plt.subplots(1,1,figsize=(8,12),dpi=200)\n",
    "ax.barh(y=fi.feature,width=fi.importances)\n",
    "ax.set_title(\"feature importances\")\n",
    "plt.show()"
   ]
  },
  {
   "cell_type": "code",
   "execution_count": 157,
   "metadata": {},
   "outputs": [],
   "source": [
    "# import shap\n",
    "# from alibi.explainers import KernelShap\n",
    "\n",
    "# shap.initjs()"
   ]
  },
  {
   "cell_type": "code",
   "execution_count": 158,
   "metadata": {},
   "outputs": [],
   "source": [
    "# shap 따라하기.\n",
    "# https://docs.seldon.io/projects/alibi/en/stable/examples/kernel_shap_wine_intro.html\n",
    "\n",
    "# pred_func=models[2].decision_function\n",
    "# svm_explainer=KernelShap(pred_func)\n",
    "# svm_explainer.fit(X_tr_copy)"
   ]
  },
  {
   "cell_type": "code",
   "execution_count": 159,
   "metadata": {},
   "outputs": [],
   "source": [
    "# shap 설명.\n",
    "# 0 클래스밖에 못읽는다. 데이터가 적기때문ㅇ? 아니면 target이 1이 많아서? \n",
    "\n",
    "# 시간이 걸린다. 6분\n",
    "# svm_explanation=svm_explainer.explain(X_val_copy, l1_reg=False)\n",
    "# len(svm_explanation.shap_values)"
   ]
  },
  {
   "cell_type": "markdown",
   "metadata": {},
   "source": [
    "[다시시작](#goback)\n",
    "\n",
    "일단 inventoryAsset, employee1, shortLoan1, sga1, shortLoan2, longLoan2, surplus2, surplus1, employee2 부터.  \n",
    "shap.summary_plot(svm_explanation.shap_values,X_val_copy,X_train.columns)"
   ]
  },
  {
   "cell_type": "code",
   "execution_count": 160,
   "metadata": {},
   "outputs": [],
   "source": [
    "# pred=models[2].predict(X_test)"
   ]
  },
  {
   "cell_type": "code",
   "execution_count": 161,
   "metadata": {
    "scrolled": true
   },
   "outputs": [
    {
     "ename": "ValueError",
     "evalue": "Length of values (58) does not match length of index (127)",
     "output_type": "error",
     "traceback": [
      "\u001b[0;31m---------------------------------------------------------------------------\u001b[0m",
      "\u001b[0;31mValueError\u001b[0m                                Traceback (most recent call last)",
      "\u001b[0;32m<ipython-input-161-36e3f1c7a2fe>\u001b[0m in \u001b[0;36m<module>\u001b[0;34m()\u001b[0m\n\u001b[0;32m----> 1\u001b[0;31m \u001b[0msubmission\u001b[0m\u001b[0;34m[\u001b[0m\u001b[0;34m'OC'\u001b[0m\u001b[0;34m]\u001b[0m\u001b[0;34m=\u001b[0m\u001b[0mpred\u001b[0m\u001b[0;34m\u001b[0m\u001b[0;34m\u001b[0m\u001b[0m\n\u001b[0m\u001b[1;32m      2\u001b[0m \u001b[0msubmission\u001b[0m\u001b[0;34m.\u001b[0m\u001b[0mOC\u001b[0m\u001b[0;34m.\u001b[0m\u001b[0mvalue_counts\u001b[0m\u001b[0;34m(\u001b[0m\u001b[0;34m)\u001b[0m\u001b[0;34m\u001b[0m\u001b[0;34m\u001b[0m\u001b[0m\n",
      "\u001b[0;32m/opt/conda/envs/kaggle/lib/python3.7/site-packages/pandas/core/frame.py\u001b[0m in \u001b[0;36m__setitem__\u001b[0;34m(self, key, value)\u001b[0m\n\u001b[1;32m   3042\u001b[0m         \u001b[0;32melse\u001b[0m\u001b[0;34m:\u001b[0m\u001b[0;34m\u001b[0m\u001b[0;34m\u001b[0m\u001b[0m\n\u001b[1;32m   3043\u001b[0m             \u001b[0;31m# set column\u001b[0m\u001b[0;34m\u001b[0m\u001b[0;34m\u001b[0m\u001b[0;34m\u001b[0m\u001b[0m\n\u001b[0;32m-> 3044\u001b[0;31m             \u001b[0mself\u001b[0m\u001b[0;34m.\u001b[0m\u001b[0m_set_item\u001b[0m\u001b[0;34m(\u001b[0m\u001b[0mkey\u001b[0m\u001b[0;34m,\u001b[0m \u001b[0mvalue\u001b[0m\u001b[0;34m)\u001b[0m\u001b[0;34m\u001b[0m\u001b[0;34m\u001b[0m\u001b[0m\n\u001b[0m\u001b[1;32m   3045\u001b[0m \u001b[0;34m\u001b[0m\u001b[0m\n\u001b[1;32m   3046\u001b[0m     \u001b[0;32mdef\u001b[0m \u001b[0m_setitem_slice\u001b[0m\u001b[0;34m(\u001b[0m\u001b[0mself\u001b[0m\u001b[0;34m,\u001b[0m \u001b[0mkey\u001b[0m\u001b[0;34m:\u001b[0m \u001b[0mslice\u001b[0m\u001b[0;34m,\u001b[0m \u001b[0mvalue\u001b[0m\u001b[0;34m)\u001b[0m\u001b[0;34m:\u001b[0m\u001b[0;34m\u001b[0m\u001b[0;34m\u001b[0m\u001b[0m\n",
      "\u001b[0;32m/opt/conda/envs/kaggle/lib/python3.7/site-packages/pandas/core/frame.py\u001b[0m in \u001b[0;36m_set_item\u001b[0;34m(self, key, value)\u001b[0m\n\u001b[1;32m   3118\u001b[0m         \"\"\"\n\u001b[1;32m   3119\u001b[0m         \u001b[0mself\u001b[0m\u001b[0;34m.\u001b[0m\u001b[0m_ensure_valid_index\u001b[0m\u001b[0;34m(\u001b[0m\u001b[0mvalue\u001b[0m\u001b[0;34m)\u001b[0m\u001b[0;34m\u001b[0m\u001b[0;34m\u001b[0m\u001b[0m\n\u001b[0;32m-> 3120\u001b[0;31m         \u001b[0mvalue\u001b[0m \u001b[0;34m=\u001b[0m \u001b[0mself\u001b[0m\u001b[0;34m.\u001b[0m\u001b[0m_sanitize_column\u001b[0m\u001b[0;34m(\u001b[0m\u001b[0mkey\u001b[0m\u001b[0;34m,\u001b[0m \u001b[0mvalue\u001b[0m\u001b[0;34m)\u001b[0m\u001b[0;34m\u001b[0m\u001b[0;34m\u001b[0m\u001b[0m\n\u001b[0m\u001b[1;32m   3121\u001b[0m         \u001b[0mNDFrame\u001b[0m\u001b[0;34m.\u001b[0m\u001b[0m_set_item\u001b[0m\u001b[0;34m(\u001b[0m\u001b[0mself\u001b[0m\u001b[0;34m,\u001b[0m \u001b[0mkey\u001b[0m\u001b[0;34m,\u001b[0m \u001b[0mvalue\u001b[0m\u001b[0;34m)\u001b[0m\u001b[0;34m\u001b[0m\u001b[0;34m\u001b[0m\u001b[0m\n\u001b[1;32m   3122\u001b[0m \u001b[0;34m\u001b[0m\u001b[0m\n",
      "\u001b[0;32m/opt/conda/envs/kaggle/lib/python3.7/site-packages/pandas/core/frame.py\u001b[0m in \u001b[0;36m_sanitize_column\u001b[0;34m(self, key, value, broadcast)\u001b[0m\n\u001b[1;32m   3766\u001b[0m \u001b[0;34m\u001b[0m\u001b[0m\n\u001b[1;32m   3767\u001b[0m             \u001b[0;31m# turn me into an ndarray\u001b[0m\u001b[0;34m\u001b[0m\u001b[0;34m\u001b[0m\u001b[0;34m\u001b[0m\u001b[0m\n\u001b[0;32m-> 3768\u001b[0;31m             \u001b[0mvalue\u001b[0m \u001b[0;34m=\u001b[0m \u001b[0msanitize_index\u001b[0m\u001b[0;34m(\u001b[0m\u001b[0mvalue\u001b[0m\u001b[0;34m,\u001b[0m \u001b[0mself\u001b[0m\u001b[0;34m.\u001b[0m\u001b[0mindex\u001b[0m\u001b[0;34m)\u001b[0m\u001b[0;34m\u001b[0m\u001b[0;34m\u001b[0m\u001b[0m\n\u001b[0m\u001b[1;32m   3769\u001b[0m             \u001b[0;32mif\u001b[0m \u001b[0;32mnot\u001b[0m \u001b[0misinstance\u001b[0m\u001b[0;34m(\u001b[0m\u001b[0mvalue\u001b[0m\u001b[0;34m,\u001b[0m \u001b[0;34m(\u001b[0m\u001b[0mnp\u001b[0m\u001b[0;34m.\u001b[0m\u001b[0mndarray\u001b[0m\u001b[0;34m,\u001b[0m \u001b[0mIndex\u001b[0m\u001b[0;34m)\u001b[0m\u001b[0;34m)\u001b[0m\u001b[0;34m:\u001b[0m\u001b[0;34m\u001b[0m\u001b[0;34m\u001b[0m\u001b[0m\n\u001b[1;32m   3770\u001b[0m                 \u001b[0;32mif\u001b[0m \u001b[0misinstance\u001b[0m\u001b[0;34m(\u001b[0m\u001b[0mvalue\u001b[0m\u001b[0;34m,\u001b[0m \u001b[0mlist\u001b[0m\u001b[0;34m)\u001b[0m \u001b[0;32mand\u001b[0m \u001b[0mlen\u001b[0m\u001b[0;34m(\u001b[0m\u001b[0mvalue\u001b[0m\u001b[0;34m)\u001b[0m \u001b[0;34m>\u001b[0m \u001b[0;36m0\u001b[0m\u001b[0;34m:\u001b[0m\u001b[0;34m\u001b[0m\u001b[0;34m\u001b[0m\u001b[0m\n",
      "\u001b[0;32m/opt/conda/envs/kaggle/lib/python3.7/site-packages/pandas/core/internals/construction.py\u001b[0m in \u001b[0;36msanitize_index\u001b[0;34m(data, index)\u001b[0m\n\u001b[1;32m    746\u001b[0m     \u001b[0;32mif\u001b[0m \u001b[0mlen\u001b[0m\u001b[0;34m(\u001b[0m\u001b[0mdata\u001b[0m\u001b[0;34m)\u001b[0m \u001b[0;34m!=\u001b[0m \u001b[0mlen\u001b[0m\u001b[0;34m(\u001b[0m\u001b[0mindex\u001b[0m\u001b[0;34m)\u001b[0m\u001b[0;34m:\u001b[0m\u001b[0;34m\u001b[0m\u001b[0;34m\u001b[0m\u001b[0m\n\u001b[1;32m    747\u001b[0m         raise ValueError(\n\u001b[0;32m--> 748\u001b[0;31m             \u001b[0;34m\"Length of values \"\u001b[0m\u001b[0;34m\u001b[0m\u001b[0;34m\u001b[0m\u001b[0m\n\u001b[0m\u001b[1;32m    749\u001b[0m             \u001b[0;34mf\"({len(data)}) \"\u001b[0m\u001b[0;34m\u001b[0m\u001b[0;34m\u001b[0m\u001b[0m\n\u001b[1;32m    750\u001b[0m             \u001b[0;34m\"does not match length of index \"\u001b[0m\u001b[0;34m\u001b[0m\u001b[0;34m\u001b[0m\u001b[0m\n",
      "\u001b[0;31mValueError\u001b[0m: Length of values (58) does not match length of index (127)"
     ]
    }
   ],
   "source": [
    "submission['OC']=pred\n",
    "submission.OC.value_counts()"
   ]
  },
  {
   "cell_type": "code",
   "execution_count": null,
   "metadata": {},
   "outputs": [],
   "source": [
    "# submission.to_csv('./submission/submission_SVM(linear)_models[2]_2020_12_18.csv',index=False)"
   ]
  },
  {
   "cell_type": "code",
   "execution_count": null,
   "metadata": {},
   "outputs": [],
   "source": [
    "# submission.to_csv('./submission/submission_SVM(linear)_models[4].csv',index=False)"
   ]
  }
 ],
 "metadata": {
  "kernelspec": {
   "display_name": "Python 3",
   "language": "python",
   "name": "python3"
  },
  "language_info": {
   "codemirror_mode": {
    "name": "ipython",
    "version": 3
   },
   "file_extension": ".py",
   "mimetype": "text/x-python",
   "name": "python",
   "nbconvert_exporter": "python",
   "pygments_lexer": "ipython3",
   "version": "3.7.9"
  }
 },
 "nbformat": 4,
 "nbformat_minor": 4
}
