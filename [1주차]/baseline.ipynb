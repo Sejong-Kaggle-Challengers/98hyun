{
 "cells": [
  {
   "cell_type": "markdown",
   "metadata": {},
   "source": [
    "# 목차"
   ]
  },
  {
   "cell_type": "markdown",
   "metadata": {},
   "source": [
    "### 순서"
   ]
  },
  {
   "cell_type": "markdown",
   "metadata": {},
   "source": [
    "1. 데이터 셋 확인\n",
    "2. 탐색적 데이터 분석\n",
    "3. 특성 공학\n",
    "4. 모델 개발 및 학습\n",
    "5. 모델 예측 및 평가"
   ]
  },
  {
   "cell_type": "code",
   "execution_count": 1,
   "metadata": {},
   "outputs": [],
   "source": [
    "# 필요한 라이브러리\n",
    "\n",
    "import numpy as np\n",
    "import pandas as pd\n",
    "import matplotlib.pyplot as plt\n",
    "import seaborn as sns"
   ]
  },
  {
   "cell_type": "code",
   "execution_count": 2,
   "metadata": {},
   "outputs": [],
   "source": [
    "# 데이터 불러오기 \n",
    "\n",
    "train=pd.read_csv('./data02/train.csv')\n",
    "test=pd.read_csv('./data02/test.csv')\n",
    "submission=pd.read_csv('./data02/submission_sample.csv')"
   ]
  },
  {
   "cell_type": "code",
   "execution_count": 3,
   "metadata": {
    "scrolled": true
   },
   "outputs": [
    {
     "data": {
      "text/html": [
       "<div>\n",
       "<style scoped>\n",
       "    .dataframe tbody tr th:only-of-type {\n",
       "        vertical-align: middle;\n",
       "    }\n",
       "\n",
       "    .dataframe tbody tr th {\n",
       "        vertical-align: top;\n",
       "    }\n",
       "\n",
       "    .dataframe thead th {\n",
       "        text-align: right;\n",
       "    }\n",
       "</style>\n",
       "<table border=\"1\" class=\"dataframe\">\n",
       "  <thead>\n",
       "    <tr style=\"text-align: right;\">\n",
       "      <th></th>\n",
       "      <th>inst_id</th>\n",
       "      <th>OC</th>\n",
       "      <th>sido</th>\n",
       "      <th>sgg</th>\n",
       "      <th>openDate</th>\n",
       "      <th>bedCount</th>\n",
       "      <th>instkind</th>\n",
       "      <th>revenue1</th>\n",
       "      <th>salescost1</th>\n",
       "      <th>sga1</th>\n",
       "      <th>...</th>\n",
       "      <th>debt2</th>\n",
       "      <th>liquidLiabilities2</th>\n",
       "      <th>shortLoan2</th>\n",
       "      <th>NCLiabilities2</th>\n",
       "      <th>longLoan2</th>\n",
       "      <th>netAsset2</th>\n",
       "      <th>surplus2</th>\n",
       "      <th>employee1</th>\n",
       "      <th>employee2</th>\n",
       "      <th>ownerChange</th>\n",
       "    </tr>\n",
       "  </thead>\n",
       "  <tbody>\n",
       "    <tr>\n",
       "      <th>0</th>\n",
       "      <td>1</td>\n",
       "      <td>open</td>\n",
       "      <td>choongnam</td>\n",
       "      <td>73</td>\n",
       "      <td>20071228</td>\n",
       "      <td>175.0</td>\n",
       "      <td>nursing_hospital</td>\n",
       "      <td>4.217530e+09</td>\n",
       "      <td>0.0</td>\n",
       "      <td>3.961135e+09</td>\n",
       "      <td>...</td>\n",
       "      <td>7.589937e+08</td>\n",
       "      <td>2.228769e+08</td>\n",
       "      <td>0.000000e+00</td>\n",
       "      <td>5.361169e+08</td>\n",
       "      <td>3.900000e+08</td>\n",
       "      <td>2.619290e+09</td>\n",
       "      <td>1.271224e+09</td>\n",
       "      <td>62.0</td>\n",
       "      <td>64.0</td>\n",
       "      <td>same</td>\n",
       "    </tr>\n",
       "    <tr>\n",
       "      <th>1</th>\n",
       "      <td>3</td>\n",
       "      <td>open</td>\n",
       "      <td>gyeongnam</td>\n",
       "      <td>32</td>\n",
       "      <td>19970401</td>\n",
       "      <td>410.0</td>\n",
       "      <td>general_hospital</td>\n",
       "      <td>NaN</td>\n",
       "      <td>NaN</td>\n",
       "      <td>NaN</td>\n",
       "      <td>...</td>\n",
       "      <td>NaN</td>\n",
       "      <td>NaN</td>\n",
       "      <td>NaN</td>\n",
       "      <td>NaN</td>\n",
       "      <td>NaN</td>\n",
       "      <td>NaN</td>\n",
       "      <td>NaN</td>\n",
       "      <td>801.0</td>\n",
       "      <td>813.0</td>\n",
       "      <td>same</td>\n",
       "    </tr>\n",
       "    <tr>\n",
       "      <th>2</th>\n",
       "      <td>4</td>\n",
       "      <td>open</td>\n",
       "      <td>gyeonggi</td>\n",
       "      <td>89</td>\n",
       "      <td>20161228</td>\n",
       "      <td>468.0</td>\n",
       "      <td>nursing_hospital</td>\n",
       "      <td>1.004522e+09</td>\n",
       "      <td>515483669.0</td>\n",
       "      <td>4.472197e+08</td>\n",
       "      <td>...</td>\n",
       "      <td>0.000000e+00</td>\n",
       "      <td>0.000000e+00</td>\n",
       "      <td>0.000000e+00</td>\n",
       "      <td>0.000000e+00</td>\n",
       "      <td>0.000000e+00</td>\n",
       "      <td>0.000000e+00</td>\n",
       "      <td>0.000000e+00</td>\n",
       "      <td>234.0</td>\n",
       "      <td>1.0</td>\n",
       "      <td>same</td>\n",
       "    </tr>\n",
       "    <tr>\n",
       "      <th>3</th>\n",
       "      <td>7</td>\n",
       "      <td>open</td>\n",
       "      <td>incheon</td>\n",
       "      <td>141</td>\n",
       "      <td>20000814</td>\n",
       "      <td>353.0</td>\n",
       "      <td>general_hospital</td>\n",
       "      <td>7.250734e+10</td>\n",
       "      <td>0.0</td>\n",
       "      <td>7.067740e+10</td>\n",
       "      <td>...</td>\n",
       "      <td>3.775501e+10</td>\n",
       "      <td>1.701860e+10</td>\n",
       "      <td>9.219427e+09</td>\n",
       "      <td>2.073641e+10</td>\n",
       "      <td>1.510000e+10</td>\n",
       "      <td>1.295427e+10</td>\n",
       "      <td>7.740829e+09</td>\n",
       "      <td>663.0</td>\n",
       "      <td>663.0</td>\n",
       "      <td>same</td>\n",
       "    </tr>\n",
       "    <tr>\n",
       "      <th>4</th>\n",
       "      <td>9</td>\n",
       "      <td>open</td>\n",
       "      <td>gyeongnam</td>\n",
       "      <td>32</td>\n",
       "      <td>20050901</td>\n",
       "      <td>196.0</td>\n",
       "      <td>general_hospital</td>\n",
       "      <td>4.904354e+10</td>\n",
       "      <td>0.0</td>\n",
       "      <td>4.765605e+10</td>\n",
       "      <td>...</td>\n",
       "      <td>5.143259e+10</td>\n",
       "      <td>3.007259e+10</td>\n",
       "      <td>1.759375e+10</td>\n",
       "      <td>2.136001e+10</td>\n",
       "      <td>1.410803e+10</td>\n",
       "      <td>5.561941e+06</td>\n",
       "      <td>9.025550e+09</td>\n",
       "      <td>206.0</td>\n",
       "      <td>197.0</td>\n",
       "      <td>same</td>\n",
       "    </tr>\n",
       "  </tbody>\n",
       "</table>\n",
       "<p>5 rows × 58 columns</p>\n",
       "</div>"
      ],
      "text/plain": [
       "   inst_id    OC       sido  sgg  openDate  bedCount          instkind  \\\n",
       "0        1  open  choongnam   73  20071228     175.0  nursing_hospital   \n",
       "1        3  open  gyeongnam   32  19970401     410.0  general_hospital   \n",
       "2        4  open   gyeonggi   89  20161228     468.0  nursing_hospital   \n",
       "3        7  open    incheon  141  20000814     353.0  general_hospital   \n",
       "4        9  open  gyeongnam   32  20050901     196.0  general_hospital   \n",
       "\n",
       "       revenue1   salescost1          sga1  ...         debt2  \\\n",
       "0  4.217530e+09          0.0  3.961135e+09  ...  7.589937e+08   \n",
       "1           NaN          NaN           NaN  ...           NaN   \n",
       "2  1.004522e+09  515483669.0  4.472197e+08  ...  0.000000e+00   \n",
       "3  7.250734e+10          0.0  7.067740e+10  ...  3.775501e+10   \n",
       "4  4.904354e+10          0.0  4.765605e+10  ...  5.143259e+10   \n",
       "\n",
       "   liquidLiabilities2    shortLoan2  NCLiabilities2     longLoan2  \\\n",
       "0        2.228769e+08  0.000000e+00    5.361169e+08  3.900000e+08   \n",
       "1                 NaN           NaN             NaN           NaN   \n",
       "2        0.000000e+00  0.000000e+00    0.000000e+00  0.000000e+00   \n",
       "3        1.701860e+10  9.219427e+09    2.073641e+10  1.510000e+10   \n",
       "4        3.007259e+10  1.759375e+10    2.136001e+10  1.410803e+10   \n",
       "\n",
       "      netAsset2      surplus2  employee1  employee2  ownerChange  \n",
       "0  2.619290e+09  1.271224e+09       62.0       64.0         same  \n",
       "1           NaN           NaN      801.0      813.0         same  \n",
       "2  0.000000e+00  0.000000e+00      234.0        1.0         same  \n",
       "3  1.295427e+10  7.740829e+09      663.0      663.0         same  \n",
       "4  5.561941e+06  9.025550e+09      206.0      197.0         same  \n",
       "\n",
       "[5 rows x 58 columns]"
      ]
     },
     "execution_count": 3,
     "metadata": {},
     "output_type": "execute_result"
    }
   ],
   "source": [
    "# 데이터 셋 확인\n",
    "\n",
    "train.head()"
   ]
  },
  {
   "cell_type": "code",
   "execution_count": 4,
   "metadata": {
    "scrolled": true
   },
   "outputs": [
    {
     "data": {
      "text/html": [
       "<div>\n",
       "<style scoped>\n",
       "    .dataframe tbody tr th:only-of-type {\n",
       "        vertical-align: middle;\n",
       "    }\n",
       "\n",
       "    .dataframe tbody tr th {\n",
       "        vertical-align: top;\n",
       "    }\n",
       "\n",
       "    .dataframe thead th {\n",
       "        text-align: right;\n",
       "    }\n",
       "</style>\n",
       "<table border=\"1\" class=\"dataframe\">\n",
       "  <thead>\n",
       "    <tr style=\"text-align: right;\">\n",
       "      <th></th>\n",
       "      <th>inst_id</th>\n",
       "      <th>OC</th>\n",
       "      <th>sido</th>\n",
       "      <th>sgg</th>\n",
       "      <th>openDate</th>\n",
       "      <th>bedCount</th>\n",
       "      <th>instkind</th>\n",
       "      <th>revenue1</th>\n",
       "      <th>salescost1</th>\n",
       "      <th>sga1</th>\n",
       "      <th>...</th>\n",
       "      <th>debt2</th>\n",
       "      <th>liquidLiabilities2</th>\n",
       "      <th>shortLoan2</th>\n",
       "      <th>NCLiabilities2</th>\n",
       "      <th>longLoan2</th>\n",
       "      <th>netAsset2</th>\n",
       "      <th>surplus2</th>\n",
       "      <th>employee1</th>\n",
       "      <th>employee2</th>\n",
       "      <th>ownerChange</th>\n",
       "    </tr>\n",
       "  </thead>\n",
       "  <tbody>\n",
       "    <tr>\n",
       "      <th>0</th>\n",
       "      <td>2</td>\n",
       "      <td>NaN</td>\n",
       "      <td>incheon</td>\n",
       "      <td>139</td>\n",
       "      <td>19981125.0</td>\n",
       "      <td>300.0</td>\n",
       "      <td>general_hospital</td>\n",
       "      <td>6.682486e+10</td>\n",
       "      <td>0.000000e+00</td>\n",
       "      <td>6.565709e+10</td>\n",
       "      <td>...</td>\n",
       "      <td>5.540643e+10</td>\n",
       "      <td>5.068443e+10</td>\n",
       "      <td>3.714334e+10</td>\n",
       "      <td>4.720000e+09</td>\n",
       "      <td>4.690000e+09</td>\n",
       "      <td>1.608540e+10</td>\n",
       "      <td>8.944587e+09</td>\n",
       "      <td>693</td>\n",
       "      <td>693</td>\n",
       "      <td>same</td>\n",
       "    </tr>\n",
       "    <tr>\n",
       "      <th>1</th>\n",
       "      <td>5</td>\n",
       "      <td>NaN</td>\n",
       "      <td>jeju</td>\n",
       "      <td>149</td>\n",
       "      <td>20160309.0</td>\n",
       "      <td>44.0</td>\n",
       "      <td>hospital</td>\n",
       "      <td>3.495758e+10</td>\n",
       "      <td>0.000000e+00</td>\n",
       "      <td>3.259270e+10</td>\n",
       "      <td>...</td>\n",
       "      <td>6.730838e+10</td>\n",
       "      <td>4.209828e+10</td>\n",
       "      <td>2.420000e+10</td>\n",
       "      <td>2.521009e+10</td>\n",
       "      <td>1.830000e+10</td>\n",
       "      <td>3.789135e+09</td>\n",
       "      <td>0.000000e+00</td>\n",
       "      <td>379</td>\n",
       "      <td>371</td>\n",
       "      <td>same</td>\n",
       "    </tr>\n",
       "    <tr>\n",
       "      <th>2</th>\n",
       "      <td>6</td>\n",
       "      <td>NaN</td>\n",
       "      <td>jeonnam</td>\n",
       "      <td>103</td>\n",
       "      <td>19890427.0</td>\n",
       "      <td>276.0</td>\n",
       "      <td>general_hospital</td>\n",
       "      <td>2.326031e+10</td>\n",
       "      <td>2.542571e+09</td>\n",
       "      <td>2.308749e+10</td>\n",
       "      <td>...</td>\n",
       "      <td>0.000000e+00</td>\n",
       "      <td>2.777589e+10</td>\n",
       "      <td>2.182278e+10</td>\n",
       "      <td>0.000000e+00</td>\n",
       "      <td>0.000000e+00</td>\n",
       "      <td>0.000000e+00</td>\n",
       "      <td>1.638540e+10</td>\n",
       "      <td>NaN</td>\n",
       "      <td>NaN</td>\n",
       "      <td>NaN</td>\n",
       "    </tr>\n",
       "    <tr>\n",
       "      <th>3</th>\n",
       "      <td>8</td>\n",
       "      <td>NaN</td>\n",
       "      <td>busan</td>\n",
       "      <td>71</td>\n",
       "      <td>20100226.0</td>\n",
       "      <td>363.0</td>\n",
       "      <td>general_hospital</td>\n",
       "      <td>0.000000e+00</td>\n",
       "      <td>0.000000e+00</td>\n",
       "      <td>0.000000e+00</td>\n",
       "      <td>...</td>\n",
       "      <td>1.211517e+10</td>\n",
       "      <td>9.556237e+09</td>\n",
       "      <td>4.251867e+09</td>\n",
       "      <td>2.558931e+09</td>\n",
       "      <td>0.000000e+00</td>\n",
       "      <td>3.914284e+10</td>\n",
       "      <td>0.000000e+00</td>\n",
       "      <td>760</td>\n",
       "      <td>760</td>\n",
       "      <td>same</td>\n",
       "    </tr>\n",
       "    <tr>\n",
       "      <th>4</th>\n",
       "      <td>10</td>\n",
       "      <td>NaN</td>\n",
       "      <td>jeonbuk</td>\n",
       "      <td>26</td>\n",
       "      <td>20040604.0</td>\n",
       "      <td>213.0</td>\n",
       "      <td>general_hospital</td>\n",
       "      <td>5.037025e+10</td>\n",
       "      <td>0.000000e+00</td>\n",
       "      <td>4.855803e+10</td>\n",
       "      <td>...</td>\n",
       "      <td>4.395973e+10</td>\n",
       "      <td>7.535567e+09</td>\n",
       "      <td>3.298427e+09</td>\n",
       "      <td>3.642417e+10</td>\n",
       "      <td>2.134712e+10</td>\n",
       "      <td>2.574488e+10</td>\n",
       "      <td>1.507269e+10</td>\n",
       "      <td>437</td>\n",
       "      <td>385</td>\n",
       "      <td>same</td>\n",
       "    </tr>\n",
       "  </tbody>\n",
       "</table>\n",
       "<p>5 rows × 58 columns</p>\n",
       "</div>"
      ],
      "text/plain": [
       "   inst_id  OC     sido  sgg    openDate  bedCount          instkind  \\\n",
       "0        2 NaN  incheon  139  19981125.0     300.0  general_hospital   \n",
       "1        5 NaN     jeju  149  20160309.0      44.0          hospital   \n",
       "2        6 NaN  jeonnam  103  19890427.0     276.0  general_hospital   \n",
       "3        8 NaN    busan   71  20100226.0     363.0  general_hospital   \n",
       "4       10 NaN  jeonbuk   26  20040604.0     213.0  general_hospital   \n",
       "\n",
       "       revenue1    salescost1          sga1  ...         debt2  \\\n",
       "0  6.682486e+10  0.000000e+00  6.565709e+10  ...  5.540643e+10   \n",
       "1  3.495758e+10  0.000000e+00  3.259270e+10  ...  6.730838e+10   \n",
       "2  2.326031e+10  2.542571e+09  2.308749e+10  ...  0.000000e+00   \n",
       "3  0.000000e+00  0.000000e+00  0.000000e+00  ...  1.211517e+10   \n",
       "4  5.037025e+10  0.000000e+00  4.855803e+10  ...  4.395973e+10   \n",
       "\n",
       "   liquidLiabilities2    shortLoan2  NCLiabilities2     longLoan2  \\\n",
       "0        5.068443e+10  3.714334e+10    4.720000e+09  4.690000e+09   \n",
       "1        4.209828e+10  2.420000e+10    2.521009e+10  1.830000e+10   \n",
       "2        2.777589e+10  2.182278e+10    0.000000e+00  0.000000e+00   \n",
       "3        9.556237e+09  4.251867e+09    2.558931e+09  0.000000e+00   \n",
       "4        7.535567e+09  3.298427e+09    3.642417e+10  2.134712e+10   \n",
       "\n",
       "      netAsset2      surplus2  employee1  employee2  ownerChange  \n",
       "0  1.608540e+10  8.944587e+09        693        693         same  \n",
       "1  3.789135e+09  0.000000e+00        379        371         same  \n",
       "2  0.000000e+00  1.638540e+10        NaN        NaN          NaN  \n",
       "3  3.914284e+10  0.000000e+00        760        760         same  \n",
       "4  2.574488e+10  1.507269e+10        437        385         same  \n",
       "\n",
       "[5 rows x 58 columns]"
      ]
     },
     "execution_count": 4,
     "metadata": {},
     "output_type": "execute_result"
    }
   ],
   "source": [
    "# 데이터셋 확인\n",
    "\n",
    "test.head()"
   ]
  },
  {
   "cell_type": "markdown",
   "metadata": {},
   "source": [
    "train.csv - 의료기관이 폐업했는지 여부를 포함하여 최근 2개년의 재무정보와 병원 기본정보   \n",
    "\n",
    "test.csv - 폐업 여부를 제외하고 train.csv와 동일   \n",
    "\n",
    "sample_submission.csv - inst_id와 open과 close를 예측하는 OC 두개의 열로 구성. OC의 값은 open 예측일 경우 1,   close 예측일 경우 0.  \n",
    "\n",
    "\n",
    "\n",
    "inst_id - 각 파일에서의 병원 고유 번호  \n",
    "\n",
    "OC – 영업/폐업 분류, 2018년 폐업은 2017년 폐업으로 간주함\n",
    "\n",
    "sido – 병원의 광역 지역 정보\n",
    "\n",
    "sgg – 병원의 시군구 자료\n",
    "\n",
    "openDate – 병원 설립일\n",
    "\n",
    "bedCount - 병원이 갖추고 있는 병상의 수\n",
    "\n",
    "instkind – 병원, 의원, 요양병원, 한의원, 종합병원 등 병원의 종류\n",
    "\n",
    "·        종합병원 : 입원환자 100명 이상 수용 가능\n",
    "\n",
    "·        병원 : 입원 환자 30명 이상 100명 미만 수용 가능\n",
    "\n",
    "·        의원 : 입원 환자 30명 이하 수용 가능\n",
    "\n",
    "·        한방 병원(한의원) : 침술과 한약으로 치료하는 의료 기관.  \n",
    "\n",
    " \n",
    "\n",
    "revenue1 – 매출액, 2017(회계년도)년 데이터를 의미함\n",
    "\n",
    "salescost1 – 매출원가, 2017(회계년도)년 데이터를 의미함\n",
    "\n",
    "sga1 - 판매비와 관리비, 2017(회계년도)년 데이터를 의미함\n",
    "\n",
    "salary1 – 급여, 2017(회계년도)년 데이터를 의미함\n",
    "\n",
    "noi1 – 영업외수익, 2017(회계년도)년 데이터를 의미함\n",
    "\n",
    "noe1 – 영업외비용, 2017(회계년도)년 데이터를 의미함\n",
    "\n",
    "Interest1 – 이자비용, 2017(회계년도)년 데이터를 의미함\n",
    "\n",
    "ctax1 – 법인세비용, 2017(회계년도)년 데이터를 의미함\n",
    "\n",
    "Profit1 – 당기순이익, 2017(회계년도)년 데이터를 의미함\n",
    "\n",
    "liquidAsset1 – 유동자산, 2017(회계년도)년 데이터를 의미함\n",
    "\n",
    "quickAsset1 – 당좌자산, 2017(회계년도)년 데이터를 의미함\n",
    "\n",
    "receivableS1 - 미수금(단기), 2017(회계년도)년 데이터를 의미함\n",
    "\n",
    "inventoryAsset1 – 재고자산, 2017(회계년도)년 데이터를 의미함\n",
    "\n",
    "nonCAsset1 – 비유동자산, 2017(회계년도)년 데이터를 의미함\n",
    "\n",
    "tanAsset1 – 유형자산, 2017(회계년도)년 데이터를 의미함\n",
    "\n",
    "OnonCAsset1 - 기타 비유동자산, 2017(회계년도)년 데이터를 의미함\n",
    "\n",
    "receivableL1 – 장기미수금, 2017(회계년도)년 데이터를 의미함\n",
    "\n",
    "debt1 – 부채총계, 2017(회계년도)년 데이터를 의미함\n",
    "\n",
    "liquidLiabilities1 – 유동부채, 2017(회계년도)년 데이터를 의미함\n",
    "\n",
    "shortLoan1 – 단기차입금, 2017(회계년도)년 데이터를 의미함\n",
    "\n",
    "NCLiabilities1 – 비유동부채, 2017(회계년도)년 데이터를 의미함\n",
    "\n",
    "longLoan1 – 장기차입금, 2017(회계년도)년 데이터를 의미함\n",
    "\n",
    "netAsset1 – 순자산총계, 2017(회계년도)년 데이터를 의미함\n",
    "\n",
    "surplus1 – 이익잉여금, 2017(회계년도)년 데이터를 의미함\n",
    "\n",
    " \n",
    "\n",
    "revenue2 – 매출액, 2016(회계년도)년 데이터를 의미함\n",
    "\n",
    "salescost2 – 매출원가, 2016(회계년도)년 데이터를 의미함\n",
    "\n",
    "sga2 - 판매비와 관리비, 2016(회계년도)년 데이터를 의미함\n",
    "\n",
    "salary2 – 급여, 2016(회계년도)년 데이터를 의미함\n",
    "\n",
    "noi2 – 영업외수익, 2016(회계년도)년 데이터를 의미함\n",
    "\n",
    "noe2 – 영업외비용, 2016(회계년도)년 데이터를 의미함\n",
    "\n",
    "interest2 – 이자비용, 2016(회계년도)년 데이터를 의미함\n",
    "\n",
    "ctax2 – 법인세비용, 2016(회계년도)년 데이터를 의미함\n",
    "\n",
    "profit2 – 당기순이익, 2016(회계년도)년 데이터를 의미함\n",
    "\n",
    "liquidAsset2 – 유동자산, 2016(회계년도)년 데이터를 의미함\n",
    "\n",
    "quickAsset2 – 당좌자산, 2016(회계년도)년 데이터를 의미함\n",
    "\n",
    "receivableS2 - 미수금(단기), 2016(회계년도)년 데이터를 의미함\n",
    "\n",
    "inventoryAsset2 – 재고자산, 2016(회계년도)년 데이터를 의미함\n",
    "\n",
    "nonCAsset2 – 비유동자산, 2016(회계년도)년 데이터를 의미함\n",
    "\n",
    "tanAsset2 – 유형자산, 2016(회계년도)년 데이터를 의미함\n",
    "\n",
    "OnonCAsset2 - 기타 비유동자산, 2016(회계년도)년 데이터를 의미함\n",
    "\n",
    "receivableL2 – 장기미수금, 2016(회계년도)년 데이터를 의미함\n",
    "\n",
    "Debt2 – 부채총계, 2016(회계년도)년 데이터를 의미함\n",
    "\n",
    "liquidLiabilities2 – 유동부채, 2016(회계년도)년 데이터를 의미함\n",
    "\n",
    "shortLoan2 – 단기차입금, 2016(회계년도)년 데이터를 의미함\n",
    "\n",
    "NCLiabilities2 – 비유동부채, 2016(회계년도)년 데이터를 의미함\n",
    "\n",
    "longLoan2 – 장기차입금, 2016(회계년도)년 데이터를 의미함\n",
    "\n",
    "netAsset2 – 순자산총계, 2016(회계년도)년 데이터를 의미함\n",
    "\n",
    "surplus2 – 이익잉여금, 2016(회계년도)년 데이터를 의미함\n",
    "\n",
    "employee1 – 고용한 총 직원의 수, 2017(회계년도)년 데이터를 의미함\n",
    "\n",
    "employee2 – 고용한 총 직원의 수, 2016(회계년도)년 데이터를 의미함\n",
    "\n",
    "ownerChange – 대표자의 변동 "
   ]
  },
  {
   "cell_type": "markdown",
   "metadata": {},
   "source": [
    "### 데이터 분석 순서.\n",
    "\n",
    "#### 1. train , test 합체.\n",
    "\n",
    "#### 2. 결측값 제거. 혹은 대체"
   ]
  },
  {
   "cell_type": "code",
   "execution_count": 5,
   "metadata": {},
   "outputs": [],
   "source": [
    "n=train.shape[0]\n",
    "data=pd.concat([train,test],axis=0).reset_index(drop=True)"
   ]
  },
  {
   "cell_type": "code",
   "execution_count": 6,
   "metadata": {
    "scrolled": true
   },
   "outputs": [],
   "source": [
    "# 탐색적 데이터 분석 \n",
    "\n",
    "# object 데이터 타입 \n",
    "\n",
    "categorical_cols=[col for col in data.columns if data[col].dtype=='object']\n",
    "# data[categorical_cols].isna().sum()\n",
    "# data[categorical_cols].loc[data['instkind'].isnull()]"
   ]
  },
  {
   "cell_type": "code",
   "execution_count": 7,
   "metadata": {},
   "outputs": [],
   "source": [
    "# bed count 49 개 많은건가?\n",
    "# data.loc[421,:]\n",
    "\n",
    "# 살펴보니 traditional_hospital 과 비슷해보인다.  \n",
    "# data.groupby('instkind')['bedCount'].mean() \n",
    "\n",
    "data.loc[421,'instkind']='traditional_hospital'"
   ]
  },
  {
   "cell_type": "code",
   "execution_count": 8,
   "metadata": {},
   "outputs": [],
   "source": [
    "#구글링 결과. 가능성 있어 보인다.\n",
    "# http://www.medicaltimes.com/Users/News/NewsView.html?ID=90342\n",
    "\n",
    "data.loc[193,'instkind']='general_hospital'"
   ]
  },
  {
   "cell_type": "code",
   "execution_count": 9,
   "metadata": {},
   "outputs": [],
   "source": [
    "# 분석을 위해서\n",
    "data.loc[data['employee1']=='1,637','employee1']=1637\n",
    "data.loc[data['employee1']=='1,816','employee1']=1816\n",
    "data.loc[data['employee1']=='1,065','employee1']=1065\n",
    "data['employee1']=data['employee1'].fillna(data['employee1'].median()).astype(int)\n",
    "\n",
    "# data.groupby('instkind')['employee1'].mean()\n",
    "data.loc[426,'instkind']='general_hospital'"
   ]
  },
  {
   "cell_type": "code",
   "execution_count": 10,
   "metadata": {},
   "outputs": [],
   "source": [
    "data.loc[data['employee2']=='1,547','employee2']=1547\n",
    "data.loc[data['employee2']=='1,104','employee2']=1104\n",
    "data.loc[data['employee2']=='1,065','employee2']=1065\n",
    "data['employee2']=data['employee2'].fillna(data['employee2'].median()).astype(int)"
   ]
  },
  {
   "cell_type": "code",
   "execution_count": 11,
   "metadata": {},
   "outputs": [],
   "source": [
    "# 탐색적 데이터 분석\n",
    "# 데이터 타입 숫자\n",
    "\n",
    "numeric_cols=[col for col in data.columns if data[col].dtype!='object']"
   ]
  },
  {
   "cell_type": "code",
   "execution_count": 12,
   "metadata": {},
   "outputs": [],
   "source": [
    "# 10개 씩 있는 뭔가 수상.\n",
    "# data[numeric_cols].isna().sum()\n",
    "\n",
    "drop_idx=data[(data.isnull().sum(axis=1) >= 10)].index[:-2]\n",
    "n-=len(drop_idx)\n",
    "data=data.drop(drop_idx,axis=0)"
   ]
  },
  {
   "cell_type": "code",
   "execution_count": 13,
   "metadata": {},
   "outputs": [],
   "source": [
    "# ownerChange 처리\n",
    "\n",
    "data.loc[data['ownerChange'].isnull(),'ownerChange']='no.know'"
   ]
  },
  {
   "cell_type": "code",
   "execution_count": 14,
   "metadata": {},
   "outputs": [],
   "source": [
    "# 시간 처리 몰라 평균 시간 넣기.\n",
    "\n",
    "data['openDate']=pd.to_datetime(data['openDate'],format='%Y%m%d')\n",
    "data.loc[data['openDate'].isnull(),'openDate']=pd.to_datetime(data['openDate'],format='%Y%m%d').mean()"
   ]
  },
  {
   "cell_type": "code",
   "execution_count": 15,
   "metadata": {},
   "outputs": [],
   "source": [
    "# 날짜 다시 변경 \n",
    "\n",
    "data['openDate']=data['openDate'].dt.date\n",
    "\n",
    "def to_integer(time):\n",
    "    return 10000*time.year + 100*time.month + time.day\n",
    "\n",
    "data['openDate']=data['openDate'].apply(lambda x:to_integer(x))"
   ]
  },
  {
   "cell_type": "code",
   "execution_count": 16,
   "metadata": {},
   "outputs": [],
   "source": [
    "# 중앙값 넣기\n",
    "\n",
    "data.loc[data['bedCount'].isnull(),'bedCount']=data['bedCount'].median()"
   ]
  },
  {
   "cell_type": "code",
   "execution_count": 17,
   "metadata": {},
   "outputs": [],
   "source": [
    "# test NAN 값 채우기\n",
    "\n",
    "test_cols=[col for col in data.columns if data[col].isna().sum()>0]\n",
    "\n",
    "for col in test_cols:\n",
    "    if col=='OC':\n",
    "        continue\n",
    "    data[col]=data[col].fillna(data[col].median())"
   ]
  },
  {
   "cell_type": "markdown",
   "metadata": {},
   "source": [
    "### 특성 공학.\n",
    "\n",
    "#### 1. 특성 숫자화\n",
    "#### 2. 특성 표준화"
   ]
  },
  {
   "cell_type": "code",
   "execution_count": 18,
   "metadata": {},
   "outputs": [],
   "source": [
    "# 숫자화\n",
    "\n",
    "from sklearn.preprocessing import LabelEncoder\n",
    "\n",
    "encoder=LabelEncoder()\n",
    "\n",
    "for col in categorical_cols:\n",
    "    if col=='OC':\n",
    "        continue\n",
    "    data[col]=encoder.fit_transform(data[col])"
   ]
  },
  {
   "cell_type": "code",
   "execution_count": 19,
   "metadata": {
    "scrolled": true
   },
   "outputs": [],
   "source": [
    "# 표준화\n",
    "\n",
    "from sklearn.preprocessing import StandardScaler\n",
    "\n",
    "z=[col for col in data[numeric_cols] if data[col].mean()>100000]\n",
    "z_score=StandardScaler()\n",
    "\n",
    "for col in z:\n",
    "    if col=='inst_id':\n",
    "        continue\n",
    "    data[col]=z_score.fit_transform(data[col].values.reshape(-1,1))"
   ]
  },
  {
   "cell_type": "markdown",
   "metadata": {},
   "source": [
    "### 모델 개발 및 학습\n",
    "\n",
    "#### 1. 모델 randomforest\n",
    "#### 2. 학습 ( 교차 검증 ) \n",
    "#### 3. 예측 및 평가 "
   ]
  },
  {
   "cell_type": "code",
   "execution_count": 20,
   "metadata": {},
   "outputs": [
    {
     "data": {
      "text/plain": [
       "open      0.948805\n",
       " close    0.051195\n",
       "Name: OC, dtype: float64"
      ]
     },
     "execution_count": 20,
     "metadata": {},
     "output_type": "execute_result"
    }
   ],
   "source": [
    "# imbalance 하다.\n",
    "\n",
    "data['OC'].value_counts(normalize=True)"
   ]
  },
  {
   "cell_type": "code",
   "execution_count": 21,
   "metadata": {},
   "outputs": [],
   "source": [
    "# 데이터 나누기\n",
    "\n",
    "y_train=data.pop('OC').iloc[:n]\n",
    "X_train=data.iloc[:n,1:]\n",
    "X_test=data.iloc[n:,1:]\n",
    "\n",
    "y_train=y_train.apply(lambda x:1 if x=='open' else 0)"
   ]
  },
  {
   "cell_type": "code",
   "execution_count": 22,
   "metadata": {
    "scrolled": true
   },
   "outputs": [
    {
     "data": {
      "text/plain": [
       "((293, 56), (127, 56), (293,))"
      ]
     },
     "execution_count": 22,
     "metadata": {},
     "output_type": "execute_result"
    }
   ],
   "source": [
    "# 확인\n",
    "\n",
    "X_train.shape,X_test.shape,y_train.shape"
   ]
  },
  {
   "cell_type": "code",
   "execution_count": 23,
   "metadata": {
    "scrolled": true
   },
   "outputs": [
    {
     "name": "stdout",
     "output_type": "stream",
     "text": [
      "[LibSVM]0.9322033898305084\n",
      "[LibSVM]0.9322033898305084\n",
      "[LibSVM]0.9830508474576272\n",
      "[LibSVM]0.896551724137931\n",
      "[LibSVM]0.9482758620689655\n"
     ]
    }
   ],
   "source": [
    "# linearSVC 안된다.\n",
    "\n",
    "from sklearn.model_selection import KFold\n",
    "from sklearn.svm import SVC\n",
    "from sklearn.metrics import accuracy_score\n",
    "\n",
    "cv=KFold(n_splits=5,shuffle=True,random_state=2020)\n",
    "models=[]\n",
    "\n",
    "for train_idx,valid_idx in cv.split(X_train):\n",
    "    # 데이터 나누기 \n",
    "    X_tr,X_val=X_train.iloc[train_idx],X_train.iloc[valid_idx]\n",
    "    y_tr,y_val=y_train.iloc[train_idx],y_train.iloc[valid_idx]\n",
    "    \n",
    "    # 모델 개발 및 학습\n",
    "    model=SVC(random_state=2020,\n",
    "              kernel='linear',\n",
    "              verbose=True)\n",
    "    model.fit(X_tr,y_tr)\n",
    "    models.append(model)\n",
    "    \n",
    "    # 예측 및 평가\n",
    "    pred=model.predict(X_val)\n",
    "    score=(accuracy_score(pred,y_val))\n",
    "    print(score)"
   ]
  },
  {
   "cell_type": "code",
   "execution_count": 36,
   "metadata": {},
   "outputs": [],
   "source": [
    "pred=models[4].predict(X_test)"
   ]
  },
  {
   "cell_type": "code",
   "execution_count": 37,
   "metadata": {
    "scrolled": true
   },
   "outputs": [
    {
     "data": {
      "text/plain": [
       "1    124\n",
       "0      3\n",
       "Name: OC, dtype: int64"
      ]
     },
     "execution_count": 37,
     "metadata": {},
     "output_type": "execute_result"
    }
   ],
   "source": [
    "submission['OC']=pred\n",
    "submission.OC.value_counts()"
   ]
  },
  {
   "cell_type": "code",
   "execution_count": 38,
   "metadata": {},
   "outputs": [],
   "source": [
    "# submission.to_csv('./data02/submission_SVM(linear)_models[2].csv',index=False)"
   ]
  },
  {
   "cell_type": "code",
   "execution_count": 39,
   "metadata": {},
   "outputs": [],
   "source": [
    "# submission.to_csv('./data02/submission_SVM(linear)_models[4].csv',index=False)"
   ]
  }
 ],
 "metadata": {
  "kernelspec": {
   "display_name": "Python 3",
   "language": "python",
   "name": "python3"
  },
  "language_info": {
   "codemirror_mode": {
    "name": "ipython",
    "version": 3
   },
   "file_extension": ".py",
   "mimetype": "text/x-python",
   "name": "python",
   "nbconvert_exporter": "python",
   "pygments_lexer": "ipython3",
   "version": "3.7.9"
  }
 },
 "nbformat": 4,
 "nbformat_minor": 4
}
